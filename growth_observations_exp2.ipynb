{
 "cells": [
  {
   "cell_type": "code",
   "execution_count": 1,
   "metadata": {},
   "outputs": [
    {
     "data": {
      "text/html": [
       "<style>.container { width:100% !important; }</style>"
      ],
      "text/plain": [
       "<IPython.core.display.HTML object>"
      ]
     },
     "metadata": {},
     "output_type": "display_data"
    }
   ],
   "source": [
    "from IPython.core.display import display, HTML\n",
    "display(HTML(\"<style>.container { width:100% !important; }</style>\"))"
   ]
  },
  {
   "cell_type": "markdown",
   "metadata": {},
   "source": [
    "# Growth observations \n",
    "This is the second experiment concerning the cleaning capacity of the CleanAir device. Tests were done before and after the device was run.  \n",
    "These are the preliminary observations as measured by bacterial and fungal growth that sedimented on plates containing growth agar. Colony counts as well as photos are be added continuously for two weeks.\n",
    "## schema of test room and plate distributions\n",
    "<img src=\"cleanair_experiment_schema.png\" alt=\"schema\" width=\"600\"/>\n",
    "\n",
    "brown circles indicate where agar plates were placed in the test room  \n",
    "plates were incubated for approx. 30min before air filtering with CleanAir device.  \n",
    "A second set of plates was incubated for approx. 30min after ClearAir device was switched on for 30min at full power and then turned off. The third set was incubated for 30 min, 15 min after the second set up was finished."
   ]
  },
  {
   "cell_type": "markdown",
   "metadata": {},
   "source": [
    "## Colony forming capacity in agar plates before air filtering\n",
    "\n",
    "|Date      |day|0,4m front I|0,4m front II|1m back I|1m back II|2m I|2m II|4,4m I|4,4m II|Sum|\n",
    "|----------|---|------------|-------------|-----------|------------|----|-----|------|-------|---|\n",
    "|14.01.2021|0  |            |             |           |            |    |     |      |       |0  |\n",
    "|15.01.2021|1  |            |             |           |            |    |     |      |       |0  |\n",
    "|16.01.2021|2  |            |             |           |            |    |     | 1    |       |1  |\n",
    "|17.01.2021|3  |            |             |           | 3          |3   |2    | 1    |       |9  |\n",
    "|18.01.2021  |4  |            |             | 3         |3           |5   |5    |4     |1      |21 |\n",
    "|19.01.2021  |5  |            |             | 3         | 3          |6   |5    |6     |1      |24 |\n",
    "|20.01.2021  |6  | 1          |             | 4         | 3          |6   |5    |6     |1      |26 |\n",
    "|21.01.2021  |7  |            |             |           |            |    |     |      |       |0  |\n",
    "|22.01.2021  |8  |            |             |           |            |    |     |      |       |0  |\n",
    "|23.01.2021  |9  |            |             |           |            |    |     |      |       |0  |\n",
    "|24.01.2021  |10 |            |             |           |            |    |     |      |       |0  |\n",
    "|25.01.2021  |11 |            |             |           |            |    |     |      |       |0  |\n",
    "|26.01.2021  |12 |            |             |           |            |    |     |      |       |0  |\n",
    "|27.01.2021 |13 |            |             |           |            |    |     |      |       |0  |\n",
    "|28.01.2021 |14 |            |             |           |            |    |     |      |       |0  |\n",
    "|29.01.2021 |15 |            |             |           |            |    |     |      |       |0  |\n",
    "\n",
    " Table 1: colony forming units (CFUs) counted per plate per day"
   ]
  },
  {
   "cell_type": "markdown",
   "metadata": {},
   "source": [
    "|day|0,4m front|1m back|2m|4,4m|\n",
    "|---|------------|-------------|-----------|------------|\n",
    "|0  |            |             |           |            |\n",
    "|1  |            |             |           |            |\n",
    "|2  |<img src=\"plate_photos/expII/day2/before_0-4m_plateI.jpeg\" width=\"450\"/>|<img src=\"plate_photos/expII/day2/before_1m_plateI.jpeg\" width=\"450\"/>|<img src=\"plate_photos/expII/day2/before_2m_plateI.jpeg\" width=\"450\"/>|<img src=\"plate_photos/expII/day2/before_4-4m_plateI.jpeg\" width=\"450\"/>|\n",
    "|2  |<img src=\"plate_photos/expII/day2/before_0-4m_plateII.jpeg\" width=\"450\"/>|<img src=\"plate_photos/expII/day2/before_1m_plateII.jpeg\" width=\"450\"/>|<img src=\"plate_photos/expII/day2/before_2m_plateII.jpeg\" width=\"450\"/>|<img src=\"plate_photos/expII/day2/before_4-4m_plateII.jpeg\" width=\"450\"/>|\n",
    "|3  |<img src=\"plate_photos/expII/day3/before_0-4m_plateI.jpeg\" width=\"450\"/>|<img src=\"plate_photos/expII/day3/before_1m_plateI.jpeg\" width=\"450\"/>|<img src=\"plate_photos/expII/day3/before_2m_plateI.jpeg\" width=\"450\"/>|<img src=\"plate_photos/expII/day3/before_4-4m_plateI.jpeg\" width=\"450\"/>|\n",
    "|3  |<img src=\"plate_photos/expII/day3/before_0-4m_plateII.jpeg\" width=\"450\"/>|<img src=\"plate_photos/expII/day3/before_1m_plateII.jpeg\" width=\"450\"/>|<img src=\"plate_photos/expII/day3/before_2m_plateII.jpeg\" width=\"450\"/>|<img src=\"plate_photos/expII/day3/before_4-4m_plateII.jpeg\" width=\"450\"/>|\n",
    "|4  |<img src=\"plate_photos/expII/day4/before_0-4m_plateI.jpeg\" width=\"450\"/>|<img src=\"plate_photos/expII/day4/before_1m_plateI.jpeg\" width=\"450\"/>|<img src=\"plate_photos/expII/day4/before_2m_plateI.jpeg\" width=\"450\"/>|<img src=\"plate_photos/expII/day4/before_4-4m_plateI.jpeg\" width=\"450\"/>|\n",
    "|4  |<img src=\"plate_photos/expII/day4/before_0-4m_plateII.jpeg\" width=\"450\"/>|<img src=\"plate_photos/expII/day4/before_1m_plateII.jpeg\" width=\"450\"/>|<img src=\"plate_photos/expII/day4/before_2m_plateII.jpeg\" width=\"450\"/>|<img src=\"plate_photos/expII/day4/before_4-4m_plateII.jpeg\" width=\"450\"/>|\n",
    "|5  |<img src=\"plate_photos/expII/day5/before_0-4m_plateI.jpeg\" width=\"450\"/>|<img src=\"plate_photos/expII/day5/before_1m_plateI.jpeg\" width=\"450\"/>|<img src=\"plate_photos/expII/day5/before_2m_plateI.jpeg\" width=\"450\"/>|<img src=\"plate_photos/expII/day5/before_4-4m_plateI.jpeg\" width=\"450\"/>|\n",
    "|5  |<img src=\"plate_photos/expII/day5/before_0-4m_plateII.jpeg\" width=\"450\"/>|<img src=\"plate_photos/expII/day5/before_1m_plateII.jpeg\" width=\"450\"/>|<img src=\"plate_photos/expII/day5/before_2m_plateII.jpeg\" width=\"450\"/>|<img src=\"plate_photos/expII/day5/before_4-4m_plateII.jpeg\" width=\"450\"/>|\n",
    "|6  |<img src=\"plate_photos/expII/day6/before_0-4m_plateI.jpeg\" width=\"450\"/>|<img src=\"plate_photos/expII/day6/before_1m_plateI.jpeg\" width=\"450\"/>|<img src=\"plate_photos/expII/day6/before_2m_plateI.jpeg\" width=\"450\"/>|<img src=\"plate_photos/expII/day6/before_4-4m_plateI.jpeg\" width=\"450\"/>|\n",
    "|6  |<img src=\"plate_photos/expII/day6/before_0-4m_plateII.jpeg\" width=\"450\"/>|<img src=\"plate_photos/expII/day6/before_1m_plateII.jpeg\" width=\"450\"/>|<img src=\"plate_photos/expII/day6/before_2m_plateII.jpeg\" width=\"450\"/>|<img src=\"plate_photos/expII/day6/before_4-4m_plateII.jpeg\" width=\"450\"/>|\n",
    "|7  |<img src=\"plate_photos/expII/day7/before_0-4m_plateI.jpeg\" width=\"450\"/>|<img src=\"plate_photos/expII/day7/before_1m_plateI.jpeg\" width=\"450\"/>|<img src=\"plate_photos/expII/day7/before_2m_plateI.jpeg\" width=\"450\"/>|<img src=\"plate_photos/expII/day7/before_4-4m_plateI.jpeg\" width=\"450\"/>|\n",
    "|7  |<img src=\"plate_photos/expII/day7/before_0-4m_plateII.jpeg\" width=\"450\"/>|<img src=\"plate_photos/expII/day7/before_1m_plateII.jpeg\" width=\"450\"/>|<img src=\"plate_photos/expII/day7/before_2m_plateII.jpeg\" width=\"450\"/>|<img src=\"plate_photos/expII/day7/before_4-4m_plateII.jpeg\" width=\"450\"/>|\n",
    "|8  |<img src=\"plate_photos/expII/day8/before_0-4m_plateI.jpeg\" width=\"450\"/>|<img src=\"plate_photos/expII/day8/before_1m_plateI.jpeg\" width=\"450\"/>|<img src=\"plate_photos/expII/day8/before_2m_plateI.jpeg\" width=\"450\"/>|<img src=\"plate_photos/expII/day8/before_4-4m_plateI.jpeg\" width=\"450\"/>|\n",
    "|8  |<img src=\"plate_photos/expII/day8/before_0-4m_plateII.jpeg\" width=\"450\"/>|<img src=\"plate_photos/expII/day8/before_1m_plateII.jpeg\" width=\"450\"/>|<img src=\"plate_photos/expII/day8/before_2m_plateII.jpeg\" width=\"450\"/>|<img src=\"plate_photos/expII/day8/before_4-4m_plateII.jpeg\" width=\"450\"/>|\n",
    "|9  |<img src=\"plate_photos/expII/day9/before_0-4m_plateI.jpeg\" width=\"450\"/>|<img src=\"plate_photos/expII/day9/before_1m_plateI.jpeg\" width=\"450\"/>|<img src=\"plate_photos/expII/day9/before_2m_plateI.jpeg\" width=\"450\"/>|<img src=\"plate_photos/expII/day9/before_4-4m_plateI.jpeg\" width=\"450\"/>|\n",
    "|9  |<img src=\"plate_photos/expII/day9/before_0-4m_plateII.jpeg\" width=\"450\"/>|<img src=\"plate_photos/expII/day9/before_1m_plateII.jpeg\" width=\"450\"/>|<img src=\"plate_photos/expII/day9/before_2m_plateII.jpeg\" width=\"450\"/>|<img src=\"plate_photos/expII/day9/before_4-4m_plateII.jpeg\" width=\"450\"/>|\n",
    "|10 |<img src=\"plate_photos/expII/day10/before_0-4m_plateI.jpeg\" width=\"450\"/>|<img src=\"plate_photos/expII/day10/before_1m_plateI.jpeg\" width=\"450\"/>|<img src=\"plate_photos/expII/day10/before_2m_plateI.jpeg\" width=\"450\"/>|<img src=\"plate_photos/expII/day10/before_4-4m_plateI.jpeg\" width=\"450\"/>|\n",
    "|10 |<img src=\"plate_photos/expII/day10/before_0-4m_plateII.jpeg\" width=\"450\"/>|<img src=\"plate_photos/expII/day10/before_1m_plateII.jpeg\" width=\"450\"/>|<img src=\"plate_photos/expII/day10/before_2m_plateII.jpeg\" width=\"450\"/>|<img src=\"plate_photos/expII/day10/before_4-4m_plateII.jpeg\" width=\"450\"/>|\n",
    "|11 |<img src=\"plate_photos/expII/day11/before_0-4m_plateI.jpeg\" width=\"450\"/>|<img src=\"plate_photos/expII/day11/before_1m_plateI.jpeg\" width=\"450\"/>|<img src=\"plate_photos/expII/day11/before_2m_plateI.jpeg\" width=\"450\"/>|<img src=\"plate_photos/expII/day11/before_4-4m_plateI.jpeg\" width=\"450\"/>|\n",
    "|11 |<img src=\"plate_photos/expII/day11/before_0-4m_plateII.jpeg\" width=\"450\"/>|<img src=\"plate_photos/expII/day11/before_1m_plateII.jpeg\" width=\"450\"/>|<img src=\"plate_photos/expII/day11/before_2m_plateII.jpeg\" width=\"450\"/>|<img src=\"plate_photos/expII/day11/before_4-4m_plateII.jpeg\" width=\"450\"/>|\n",
    "|12 |<img src=\"plate_photos/expII/day12/before_0-4m_plateI.jpeg\" width=\"450\"/>|<img src=\"plate_photos/expII/day12/before_1m_plateI.jpeg\" width=\"450\"/>|<img src=\"plate_photos/expII/day12/before_2m_plateI.jpeg\" width=\"450\"/>|<img src=\"plate_photos/expII/day12/before_4-4m_plateI.jpeg\" width=\"450\"/>|\n",
    "|12 |<img src=\"plate_photos/expII/day12/before_0-4m_plateII.jpeg\" width=\"450\"/>|<img src=\"plate_photos/expII/day12/before_1m_plateII.jpeg\" width=\"450\"/>|<img src=\"plate_photos/expII/day12/before_2m_plateII.jpeg\" width=\"450\"/>|<img src=\"plate_photos/expII/day12/before_4-4m_plateII.jpeg\" width=\"450\"/>|\n",
    "|13 |<img src=\"plate_photos/expII/day13/before_0-4m_plateI.jpeg\" width=\"450\"/>|<img src=\"plate_photos/expII/day13/before_1m_plateI.jpeg\" width=\"450\"/>|<img src=\"plate_photos/expII/day13/before_2m_plateI.jpeg\" width=\"450\"/>|<img src=\"plate_photos/expII/day13/before_4-4m_plateI.jpeg\" width=\"450\"/>|\n",
    "|13 |<img src=\"plate_photos/expII/day13/before_0-4m_plateII.jpeg\" width=\"450\"/>|<img src=\"plate_photos/expII/day13/before_1m_plateII.jpeg\" width=\"450\"/>|<img src=\"plate_photos/expII/day13/before_2m_plateII.jpeg\" width=\"450\"/>|<img src=\"plate_photos/expII/day13/before_4-4m_plateII.jpeg\" width=\"450\"/>|\n",
    "|14 |<img src=\"plate_photos/expII/day14/before_0-4m_plateI.jpeg\" width=\"450\"/>|<img src=\"plate_photos/expII/day14/before_1m_plateI.jpeg\" width=\"450\"/>|<img src=\"plate_photos/expII/day14/before_2m_plateI.jpeg\" width=\"450\"/>|<img src=\"plate_photos/expII/day14/before_4-4m_plateI.jpeg\" width=\"450\"/>|\n",
    "|14 |<img src=\"plate_photos/expII/day14/before_0-4m_plateII.jpeg\" width=\"450\"/>|<img src=\"plate_photos/expII/day14/before_1m_plateII.jpeg\" width=\"450\"/>|<img src=\"plate_photos/expII/day14/before_2m_plateII.jpeg\" width=\"450\"/>|<img src=\"plate_photos/expII/day14/before_4-4m_plateII.jpeg\" width=\"450\"/>|\n",
    "|15 |<img src=\"plate_photos/expII/day15/before_0-4m_plateI.jpeg\" width=\"450\"/>|<img src=\"plate_photos/expII/day15/before_1m_plateI.jpeg\" width=\"450\"/>|<img src=\"plate_photos/expII/day15/before_2m_plateI.jpeg\" width=\"450\"/>|<img src=\"plate_photos/expII/day15/before_4-4m_plateI.jpeg\" width=\"450\"/>|\n",
    "|15 |<img src=\"plate_photos/expII/day15/before_0-4m_plateII.jpeg\" width=\"450\"/>|<img src=\"plate_photos/expII/day15/before_1m_plateII.jpeg\" width=\"450\"/>|<img src=\"plate_photos/expII/day15/before_2m_plateII.jpeg\" width=\"450\"/>|<img src=\"plate_photos/expII/day15/before_4-4m_plateII.jpeg\" width=\"450\"/>|\n",
    "\n",
    "\n",
    "\n"
   ]
  },
  {
   "cell_type": "markdown",
   "metadata": {},
   "source": [
    "## Colony forming capacity in agar plates after air filtering\n",
    "\n",
    "\n",
    "|Date      |day|0,4m front I|0,4m front II|1m back I|1m back II|2m I|2m II|4,4m I|4,4m II|Sum|\n",
    "|----------|---|------------|-------------|-----------|------------|----|-----|------|-------|---|\n",
    "|14.01.2021|0  |            |             |           |            |    |     |      |       |0  |\n",
    "|15.01.2021|1  |            |             |           |            |    |     |      |       |0  |\n",
    "|16.01.2021|2  |            |             |1          |            |    |     |     |       |1  |\n",
    "|17.01.2021|3  |2           | 2           |1          |            |4   | 1   | 2    |2      |14 |\n",
    "|18.01.2021  |4  |6           |3            |5          |            |5   |1    | 2    |3      |25 |\n",
    "|19.01.2021  |5  |6           |3            |5          |            |7   |2    |2     |3      |28 |\n",
    "|20.01.2021  |6  |8           |3            |5          |            |7   |3    |2     |3      |30 |\n",
    "|21.01.2021  |7  |            |             |           |            |    |     |      |       |0  |\n",
    "|22.01.2021  |8  |            |             |           |            |    |     |      |       |0  |\n",
    "|23.01.2021  |9  |            |             |           |            |    |     |      |       |0  |\n",
    "|24.01.2021  |10 |            |             |           |            |    |     |      |       |0  |\n",
    "|25.01.2021  |11 |            |             |           |            |    |     |      |       |0  |\n",
    "|26.01.2021  |12 |            |             |           |            |    |     |      |       |0  |\n",
    "|27.01.2021 |13 |            |             |           |            |    |     |      |       |0  |\n",
    "|28.01.2021 |14 |            |             |           |            |    |     |      |       |0  |\n",
    "|29.01.2021 |15 |            |             |           |            |    |     |      |       |0  |\n",
    "\n",
    "Table 3: colony forming units (CFUs) counted per plate per day"
   ]
  },
  {
   "cell_type": "markdown",
   "metadata": {},
   "source": [
    "|day|0,4m front|1m back|2m|4,4m|\n",
    "|---|------------|-------------|-----------|------------|\n",
    "|0  |            |             |           |            |\n",
    "|1  |            |             |           |            |\n",
    "|2  |<img src=\"plate_photos/expII/day2/after_0-4m_plateI.jpeg\" width=\"450\"/>|<img src=\"plate_photos/expII/day2/after_1m_plateI.jpeg\" width=\"450\"/>|<img src=\"plate_photos/expII/day2/after_2m_plateI.jpeg\" width=\"450\"/>|<img src=\"plate_photos/expII/day2/after_4-4m_plateI.jpeg\" width=\"450\"/>|\n",
    "|2  |<img src=\"plate_photos/expII/day2/after_0-4m_plateII.jpeg\" width=\"450\"/>|<img src=\"plate_photos/expII/day2/after_1m_plateII.jpeg\" width=\"450\"/>|<img src=\"plate_photos/expII/day2/after_2m_plateII.jpeg\" width=\"450\"/>|<img src=\"plate_photos/expII/day2/after_4-4m_plateII.jpeg\" width=\"450\"/>|\n",
    "|3  |<img src=\"plate_photos/expII/day3/after_0-4m_plateI.jpeg\" width=\"450\"/>|<img src=\"plate_photos/expII/day3/after_1m_plateI.jpeg\" width=\"450\"/>|<img src=\"plate_photos/expII/day3/after_2m_plateI.jpeg\" width=\"450\"/>|<img src=\"plate_photos/expII/day3/after_4-4m_plateI.jpeg\" width=\"450\"/>|\n",
    "|3  |<img src=\"plate_photos/expII/day3/after_0-4m_plateII.jpeg\" width=\"450\"/>|<img src=\"plate_photos/expII/day3/after_1m_plateII.jpeg\" width=\"450\"/>|<img src=\"plate_photos/expII/day3/after_2m_plateII.jpeg\" width=\"450\"/>|<img src=\"plate_photos/expII/day3/after_4-4m_plateII.jpeg\" width=\"450\"/>|\n",
    "|4  |<img src=\"plate_photos/expII/day4/after_0-4m_plateI.jpeg\" width=\"450\"/>|<img src=\"plate_photos/expII/day4/after_1m_plateI.jpeg\" width=\"450\"/>|<img src=\"plate_photos/expII/day4/after_2m_plateI.jpeg\" width=\"450\"/>|<img src=\"plate_photos/expII/day4/after_4-4m_plateI.jpeg\" width=\"450\"/>|\n",
    "|4  |<img src=\"plate_photos/expII/day4/after_0-4m_plateII.jpeg\" width=\"450\"/>|<img src=\"plate_photos/expII/day4/after_1m_plateII.jpeg\" width=\"450\"/>|<img src=\"plate_photos/expII/day4/after_2m_plateII.jpeg\" width=\"450\"/>|<img src=\"plate_photos/expII/day4/after_4-4m_plateII.jpeg\" width=\"450\"/>|\n",
    "|5  |<img src=\"plate_photos/expII/day5/after_0-4m_plateI.jpeg\" width=\"450\"/>|<img src=\"plate_photos/expII/day5/after_1m_plateI.jpeg\" width=\"450\"/>|<img src=\"plate_photos/expII/day5/after_2m_plateI.jpeg\" width=\"450\"/>|<img src=\"plate_photos/expII/day5/after_4-4m_plateI.jpeg\" width=\"450\"/>|\n",
    "|5  |<img src=\"plate_photos/expII/day5/after_0-4m_plateII.jpeg\" width=\"450\"/>|<img src=\"plate_photos/expII/day5/after_1m_plateII.jpeg\" width=\"450\"/>|<img src=\"plate_photos/expII/day5/after_2m_plateII.jpeg\" width=\"450\"/>|<img src=\"plate_photos/expII/day5/after_4-4m_plateII.jpeg\" width=\"450\"/>|\n",
    "|6  |<img src=\"plate_photos/expII/day6/after_0-4m_plateI.jpeg\" width=\"450\"/>|<img src=\"plate_photos/expII/day6/after_1m_plateI.jpeg\" width=\"450\"/>|<img src=\"plate_photos/expII/day6/after_2m_plateI.jpeg\" width=\"450\"/>|<img src=\"plate_photos/expII/day6/after_4-4m_plateI.jpeg\" width=\"450\"/>|\n",
    "|6  |<img src=\"plate_photos/expII/day6/after_0-4m_plateII.jpeg\" width=\"450\"/>|<img src=\"plate_photos/expII/day6/after_1m_plateII.jpeg\" width=\"450\"/>|<img src=\"plate_photos/expII/day6/after_2m_plateII.jpeg\" width=\"450\"/>|<img src=\"plate_photos/expII/day6/after_4-4m_plateII.jpeg\" width=\"450\"/>|\n",
    "|7  |<img src=\"plate_photos/expII/day7/after_0-4m_plateI.jpeg\" width=\"450\"/>|<img src=\"plate_photos/expII/day7/after_1m_plateI.jpeg\" width=\"450\"/>|<img src=\"plate_photos/expII/day7/after_2m_plateI.jpeg\" width=\"450\"/>|<img src=\"plate_photos/expII/day7/after_4-4m_plateI.jpeg\" width=\"450\"/>|\n",
    "|7  |<img src=\"plate_photos/expII/day7/after_0-4m_plateII.jpeg\" width=\"450\"/>|<img src=\"plate_photos/expII/day7/after_1m_plateII.jpeg\" width=\"450\"/>|<img src=\"plate_photos/expII/day7/after_2m_plateII.jpeg\" width=\"450\"/>|<img src=\"plate_photos/expII/day7/after_4-4m_plateII.jpeg\" width=\"450\"/>|\n",
    "|8  |<img src=\"plate_photos/expII/day8/after_0-4m_plateI.jpeg\" width=\"450\"/>|<img src=\"plate_photos/expII/day8/after_1m_plateI.jpeg\" width=\"450\"/>|<img src=\"plate_photos/expII/day8/after_2m_plateI.jpeg\" width=\"450\"/>|<img src=\"plate_photos/expII/day8/after_4-4m_plateI.jpeg\" width=\"450\"/>|\n",
    "|8  |<img src=\"plate_photos/expII/day8/after_0-4m_plateII.jpeg\" width=\"450\"/>|<img src=\"plate_photos/expII/day8/after_1m_plateII.jpeg\" width=\"450\"/>|<img src=\"plate_photos/expII/day8/after_2m_plateII.jpeg\" width=\"450\"/>|<img src=\"plate_photos/expII/day8/after_4-4m_plateII.jpeg\" width=\"450\"/>|\n",
    "|9  |<img src=\"plate_photos/expII/day9/after_0-4m_plateI.jpeg\" width=\"450\"/>|<img src=\"plate_photos/expII/day9/after_1m_plateI.jpeg\" width=\"450\"/>|<img src=\"plate_photos/expII/day9/after_2m_plateI.jpeg\" width=\"450\"/>|<img src=\"plate_photos/expII/day9/after_4-4m_plateI.jpeg\" width=\"450\"/>|\n",
    "|9  |<img src=\"plate_photos/expII/day9/after_0-4m_plateII.jpeg\" width=\"450\"/>|<img src=\"plate_photos/expII/day9/after_1m_plateII.jpeg\" width=\"450\"/>|<img src=\"plate_photos/expII/day9/after_2m_plateII.jpeg\" width=\"450\"/>|<img src=\"plate_photos/expII/day9/after_4-4m_plateII.jpeg\" width=\"450\"/>|\n",
    "|10 |<img src=\"plate_photos/expII/day10/after_0-4m_plateI.jpeg\" width=\"450\"/>|<img src=\"plate_photos/expII/day10/after_1m_plateI.jpeg\" width=\"450\"/>|<img src=\"plate_photos/expII/day10/after_2m_plateI.jpeg\" width=\"450\"/>|<img src=\"plate_photos/expII/day10/after_4-4m_plateI.jpeg\" width=\"450\"/>|\n",
    "|10 |<img src=\"plate_photos/expII/day10/after_0-4m_plateII.jpeg\" width=\"450\"/>|<img src=\"plate_photos/expII/day10/after_1m_plateII.jpeg\" width=\"450\"/>|<img src=\"plate_photos/expII/day10/after_2m_plateII.jpeg\" width=\"450\"/>|<img src=\"plate_photos/expII/day10/after_4-4m_plateII.jpeg\" width=\"450\"/>|\n",
    "|11 |<img src=\"plate_photos/expII/day11/after_0-4m_plateI.jpeg\" width=\"450\"/>|<img src=\"plate_photos/expII/day11/after_1m_plateI.jpeg\" width=\"450\"/>|<img src=\"plate_photos/expII/day11/after_2m_plateI.jpeg\" width=\"450\"/>|<img src=\"plate_photos/expII/day11/after_4-4m_plateI.jpeg\" width=\"450\"/>|\n",
    "|11 |<img src=\"plate_photos/expII/day11/after_0-4m_plateII.jpeg\" width=\"450\"/>|<img src=\"plate_photos/expII/day11/after_1m_plateII.jpeg\" width=\"450\"/>|<img src=\"plate_photos/expII/day11/after_2m_plateII.jpeg\" width=\"450\"/>|<img src=\"plate_photos/expII/day11/after_4-4m_plateII.jpeg\" width=\"450\"/>|\n",
    "|12 |<img src=\"plate_photos/expII/day12/after_0-4m_plateI.jpeg\" width=\"450\"/>|<img src=\"plate_photos/expII/day12/after_1m_plateI.jpeg\" width=\"450\"/>|<img src=\"plate_photos/expII/day12/after_2m_plateI.jpeg\" width=\"450\"/>|<img src=\"plate_photos/expII/day12/after_4-4m_plateI.jpeg\" width=\"450\"/>|\n",
    "|12 |<img src=\"plate_photos/expII/day12/after_0-4m_plateII.jpeg\" width=\"450\"/>|<img src=\"plate_photos/expII/day12/after_1m_plateII.jpeg\" width=\"450\"/>|<img src=\"plate_photos/expII/day12/after_2m_plateII.jpeg\" width=\"450\"/>|<img src=\"plate_photos/expII/day12/after_4-4m_plateII.jpeg\" width=\"450\"/>|\n",
    "|13 |<img src=\"plate_photos/expII/day13/after_0-4m_plateI.jpeg\" width=\"450\"/>|<img src=\"plate_photos/expII/day13/after_1m_plateI.jpeg\" width=\"450\"/>|<img src=\"plate_photos/expII/day13/after_2m_plateI.jpeg\" width=\"450\"/>|<img src=\"plate_photos/expII/day13/after_4-4m_plateI.jpeg\" width=\"450\"/>|\n",
    "|13 |<img src=\"plate_photos/expII/day13/after_0-4m_plateII.jpeg\" width=\"450\"/>|<img src=\"plate_photos/expII/day13/after_1m_plateII.jpeg\" width=\"450\"/>|<img src=\"plate_photos/expII/day13/after_2m_plateII.jpeg\" width=\"450\"/>|<img src=\"plate_photos/expII/day13/after_4-4m_plateII.jpeg\" width=\"450\"/>|\n",
    "|14 |<img src=\"plate_photos/expII/day14/after_0-4m_plateI.jpeg\" width=\"450\"/>|<img src=\"plate_photos/expII/day14/after_1m_plateI.jpeg\" width=\"450\"/>|<img src=\"plate_photos/expII/day14/after_2m_plateI.jpeg\" width=\"450\"/>|<img src=\"plate_photos/expII/day14/after_4-4m_plateI.jpeg\" width=\"450\"/>|\n",
    "|14 |<img src=\"plate_photos/expII/day14/after_0-4m_plateII.jpeg\" width=\"450\"/>|<img src=\"plate_photos/expII/day14/after_1m_plateII.jpeg\" width=\"450\"/>|<img src=\"plate_photos/expII/day14/after_2m_plateII.jpeg\" width=\"450\"/>|<img src=\"plate_photos/expII/day14/after_4-4m_plateII.jpeg\" width=\"450\"/>|\n",
    "|15 |<img src=\"plate_photos/expII/day15/after_0-4m_plateI.jpeg\" width=\"450\"/>|<img src=\"plate_photos/expII/day15/after_1m_plateI.jpeg\" width=\"450\"/>|<img src=\"plate_photos/expII/day15/after_2m_plateI.jpeg\" width=\"450\"/>|<img src=\"plate_photos/expII/day15/after_4-4m_plateI.jpeg\" width=\"450\"/>|\n",
    "|15 |<img src=\"plate_photos/expII/day15/after_0-4m_plateII.jpeg\" width=\"450\"/>|<img src=\"plate_photos/expII/day15/after_1m_plateII.jpeg\" width=\"450\"/>|<img src=\"plate_photos/expII/day15/after_2m_plateII.jpeg\" width=\"450\"/>|<img src=\"plate_photos/expII/day15/after_4-4m_plateII.jpeg\" width=\"450\"/>|\n",
    "\n",
    "  \n",
    "Table 4: photos of agar plates, red circles and arrows indicate CFUs"
   ]
  },
  {
   "cell_type": "code",
   "execution_count": null,
   "metadata": {},
   "outputs": [],
   "source": []
  },
  {
   "cell_type": "code",
   "execution_count": null,
   "metadata": {},
   "outputs": [],
   "source": []
  },
  {
   "cell_type": "markdown",
   "metadata": {},
   "source": [
    "|day|0,4m front|1m back|2m|4,4m|\n",
    "|---|------------|-------------|-----------|------------|\n",
    "|0  |            |             |           |            |\n",
    "|1  |            |             |           |            |\n",
    "|2  |<img src=\"plate_photos/expII/day2/after2_0-4m_plateI.jpeg\" width=\"450\"/>|<img src=\"plate_photos/expII/day2/after2_1m_plateI.jpeg\" width=\"450\"/>|<img src=\"plate_photos/expII/day2/after2_2m_plateI.jpeg\" width=\"450\"/>|<img src=\"plate_photos/expII/day2/after2_4-4m_plateI.jpeg\" width=\"450\"/>|\n",
    "|2  |<img src=\"plate_photos/expII/day2/after2_0-4m_plateII.jpeg\" width=\"450\"/>|<img src=\"plate_photos/expII/day2/after2_1m_plateII.jpeg\" width=\"450\"/>|<img src=\"plate_photos/expII/day2/after2_2m_plateII.jpeg\" width=\"450\"/>|<img src=\"plate_photos/expII/day2/after2_4-4m_plateII.jpeg\" width=\"450\"/>|\n",
    "|3  |<img src=\"plate_photos/expII/day3/after2_0-4m_plateI.jpeg\" width=\"450\"/>|<img src=\"plate_photos/expII/day3/after2_1m_plateI.jpeg\" width=\"450\"/>|<img src=\"plate_photos/expII/day3/after2_2m_plateI.jpeg\" width=\"450\"/>|<img src=\"plate_photos/expII/day3/after2_4-4m_plateI.jpeg\" width=\"450\"/>|\n",
    "|3  |<img src=\"plate_photos/expII/day3/after2_0-4m_plateII.jpeg\" width=\"450\"/>|<img src=\"plate_photos/expII/day3/after2_1m_plateII.jpeg\" width=\"450\"/>|<img src=\"plate_photos/expII/day3/after2_2m_plateII.jpeg\" width=\"450\"/>|<img src=\"plate_photos/expII/day3/after2_4-4m_plateII.jpeg\" width=\"450\"/>|\n",
    "|4  |<img src=\"plate_photos/expII/day4/after2_0-4m_plateI.jpeg\" width=\"450\"/>|<img src=\"plate_photos/expII/day4/after2_1m_plateI.jpeg\" width=\"450\"/>|<img src=\"plate_photos/expII/day4/after2_2m_plateI.jpeg\" width=\"450\"/>|<img src=\"plate_photos/expII/day4/after2_4-4m_plateI.jpeg\" width=\"450\"/>|\n",
    "|4  |<img src=\"plate_photos/expII/day4/after2_0-4m_plateII.jpeg\" width=\"450\"/>|<img src=\"plate_photos/expII/day4/after2_1m_plateII.jpeg\" width=\"450\"/>|<img src=\"plate_photos/expII/day4/after2_2m_plateII.jpeg\" width=\"450\"/>|<img src=\"plate_photos/expII/day4/after2_4-4m_plateII.jpeg\" width=\"450\"/>|\n",
    "|5  |<img src=\"plate_photos/expII/day5/after2_0-4m_plateI.jpeg\" width=\"450\"/>|<img src=\"plate_photos/expII/day5/after2_1m_plateI.jpeg\" width=\"450\"/>|<img src=\"plate_photos/expII/day5/after2_2m_plateI.jpeg\" width=\"450\"/>|<img src=\"plate_photos/expII/day5/after2_4-4m_plateI.jpeg\" width=\"450\"/>|\n",
    "|5  |<img src=\"plate_photos/expII/day5/after2_0-4m_plateII.jpeg\" width=\"450\"/>|<img src=\"plate_photos/expII/day5/after2_1m_plateII.jpeg\" width=\"450\"/>|<img src=\"plate_photos/expII/day5/after2_2m_plateII.jpeg\" width=\"450\"/>|<img src=\"plate_photos/expII/day5/after2_4-4m_plateII.jpeg\" width=\"450\"/>|\n",
    "|6  |<img src=\"plate_photos/expII/day6/after2_0-4m_plateI.jpeg\" width=\"450\"/>|<img src=\"plate_photos/expII/day6/after2_1m_plateI.jpeg\" width=\"450\"/>|<img src=\"plate_photos/expII/day6/after2_2m_plateI.jpeg\" width=\"450\"/>|<img src=\"plate_photos/expII/day6/after2_4-4m_plateI.jpeg\" width=\"450\"/>|\n",
    "|6  |<img src=\"plate_photos/expII/day6/after2_0-4m_plateII.jpeg\" width=\"450\"/>|<img src=\"plate_photos/expII/day6/after2_1m_plateII.jpeg\" width=\"450\"/>|<img src=\"plate_photos/expII/day6/after2_2m_plateII.jpeg\" width=\"450\"/>|<img src=\"plate_photos/expII/day6/after2_4-4m_plateII.jpeg\" width=\"450\"/>|\n",
    "|7  |<img src=\"plate_photos/expII/day7/after2_0-4m_plateI.jpeg\" width=\"450\"/>|<img src=\"plate_photos/expII/day7/after2_1m_plateI.jpeg\" width=\"450\"/>|<img src=\"plate_photos/expII/day7/after2_2m_plateI.jpeg\" width=\"450\"/>|<img src=\"plate_photos/expII/day7/after2_4-4m_plateI.jpeg\" width=\"450\"/>|\n",
    "|7  |<img src=\"plate_photos/expII/day7/after2_0-4m_plateII.jpeg\" width=\"450\"/>|<img src=\"plate_photos/expII/day7/after2_1m_plateII.jpeg\" width=\"450\"/>|<img src=\"plate_photos/expII/day7/after2_2m_plateII.jpeg\" width=\"450\"/>|<img src=\"plate_photos/expII/day7/after2_4-4m_plateII.jpeg\" width=\"450\"/>|\n",
    "|8  |<img src=\"plate_photos/expII/day8/after2_0-4m_plateI.jpeg\" width=\"450\"/>|<img src=\"plate_photos/expII/day8/after2_1m_plateI.jpeg\" width=\"450\"/>|<img src=\"plate_photos/expII/day8/after2_2m_plateI.jpeg\" width=\"450\"/>|<img src=\"plate_photos/expII/day8/after2_4-4m_plateI.jpeg\" width=\"450\"/>|\n",
    "|8  |<img src=\"plate_photos/expII/day8/after2_0-4m_plateII.jpeg\" width=\"450\"/>|<img src=\"plate_photos/expII/day8/after2_1m_plateII.jpeg\" width=\"450\"/>|<img src=\"plate_photos/expII/day8/after2_2m_plateII.jpeg\" width=\"450\"/>|<img src=\"plate_photos/expII/day8/after2_4-4m_plateII.jpeg\" width=\"450\"/>|\n",
    "|9  |<img src=\"plate_photos/expII/day9/after2_0-4m_plateI.jpeg\" width=\"450\"/>|<img src=\"plate_photos/expII/day9/after2_1m_plateI.jpeg\" width=\"450\"/>|<img src=\"plate_photos/expII/day9/after2_2m_plateI.jpeg\" width=\"450\"/>|<img src=\"plate_photos/expII/day9/after2_4-4m_plateI.jpeg\" width=\"450\"/>|\n",
    "|9  |<img src=\"plate_photos/expII/day9/after2_0-4m_plateII.jpeg\" width=\"450\"/>|<img src=\"plate_photos/expII/day9/after2_1m_plateII.jpeg\" width=\"450\"/>|<img src=\"plate_photos/expII/day9/after2_2m_plateII.jpeg\" width=\"450\"/>|<img src=\"plate_photos/expII/day9/after2_4-4m_plateII.jpeg\" width=\"450\"/>|\n",
    "|10 |<img src=\"plate_photos/expII/day10/after2_0-4m_plateI.jpeg\" width=\"450\"/>|<img src=\"plate_photos/expII/day10/after2_1m_plateI.jpeg\" width=\"450\"/>|<img src=\"plate_photos/expII/day10/after2_2m_plateI.jpeg\" width=\"450\"/>|<img src=\"plate_photos/expII/day10/after2_4-4m_plateI.jpeg\" width=\"450\"/>|\n",
    "|10 |<img src=\"plate_photos/expII/day10/after2_0-4m_plateII.jpeg\" width=\"450\"/>|<img src=\"plate_photos/expII/day10/after2_1m_plateII.jpeg\" width=\"450\"/>|<img src=\"plate_photos/expII/day10/after2_2m_plateII.jpeg\" width=\"450\"/>|<img src=\"plate_photos/expII/day10/after2_4-4m_plateII.jpeg\" width=\"450\"/>|\n",
    "|11 |<img src=\"plate_photos/expII/day11/after2_0-4m_plateI.jpeg\" width=\"450\"/>|<img src=\"plate_photos/expII/day11/after2_1m_plateI.jpeg\" width=\"450\"/>|<img src=\"plate_photos/expII/day11/after2_2m_plateI.jpeg\" width=\"450\"/>|<img src=\"plate_photos/expII/day11/after2_4-4m_plateI.jpeg\" width=\"450\"/>|\n",
    "|11 |<img src=\"plate_photos/expII/day11/after2_0-4m_plateII.jpeg\" width=\"450\"/>|<img src=\"plate_photos/expII/day11/after2_1m_plateII.jpeg\" width=\"450\"/>|<img src=\"plate_photos/expII/day11/after2_2m_plateII.jpeg\" width=\"450\"/>|<img src=\"plate_photos/expII/day11/after2_4-4m_plateII.jpeg\" width=\"450\"/>|\n",
    "|12 |<img src=\"plate_photos/expII/day12/after2_0-4m_plateI.jpeg\" width=\"450\"/>|<img src=\"plate_photos/expII/day12/after2_1m_plateI.jpeg\" width=\"450\"/>|<img src=\"plate_photos/expII/day12/after2_2m_plateI.jpeg\" width=\"450\"/>|<img src=\"plate_photos/expII/day12/after2_4-4m_plateI.jpeg\" width=\"450\"/>|\n",
    "|12 |<img src=\"plate_photos/expII/day12/after2_0-4m_plateII.jpeg\" width=\"450\"/>|<img src=\"plate_photos/expII/day12/after2_1m_plateII.jpeg\" width=\"450\"/>|<img src=\"plate_photos/expII/day12/after2_2m_plateII.jpeg\" width=\"450\"/>|<img src=\"plate_photos/expII/day12/after2_4-4m_plateII.jpeg\" width=\"450\"/>|\n",
    "|13 |<img src=\"plate_photos/expII/day13/after2_0-4m_plateI.jpeg\" width=\"450\"/>|<img src=\"plate_photos/expII/day13/after2_1m_plateI.jpeg\" width=\"450\"/>|<img src=\"plate_photos/expII/day13/after2_2m_plateI.jpeg\" width=\"450\"/>|<img src=\"plate_photos/expII/day13/after2_4-4m_plateI.jpeg\" width=\"450\"/>|\n",
    "|13 |<img src=\"plate_photos/expII/day13/after2_0-4m_plateII.jpeg\" width=\"450\"/>|<img src=\"plate_photos/expII/day13/after2_1m_plateII.jpeg\" width=\"450\"/>|<img src=\"plate_photos/expII/day13/after2_2m_plateII.jpeg\" width=\"450\"/>|<img src=\"plate_photos/expII/day13/after2_4-4m_plateII.jpeg\" width=\"450\"/>|\n",
    "|14 |<img src=\"plate_photos/expII/day14/after2_0-4m_plateI.jpeg\" width=\"450\"/>|<img src=\"plate_photos/expII/day14/after2_1m_plateI.jpeg\" width=\"450\"/>|<img src=\"plate_photos/expII/day14/after2_2m_plateI.jpeg\" width=\"450\"/>|<img src=\"plate_photos/expII/day14/after2_4-4m_plateI.jpeg\" width=\"450\"/>|\n",
    "|14 |<img src=\"plate_photos/expII/day14/after2_0-4m_plateII.jpeg\" width=\"450\"/>|<img src=\"plate_photos/expII/day14/after2_1m_plateII.jpeg\" width=\"450\"/>|<img src=\"plate_photos/expII/day14/after2_2m_plateII.jpeg\" width=\"450\"/>|<img src=\"plate_photos/expII/day14/after2_4-4m_plateII.jpeg\" width=\"450\"/>|\n",
    "|15 |<img src=\"plate_photos/expII/day15/after2_0-4m_plateI.jpeg\" width=\"450\"/>|<img src=\"plate_photos/expII/day15/after2_1m_plateI.jpeg\" width=\"450\"/>|<img src=\"plate_photos/expII/day15/after2_2m_plateI.jpeg\" width=\"450\"/>|<img src=\"plate_photos/expII/day15/after2_4-4m_plateI.jpeg\" width=\"450\"/>|\n",
    "|15 |<img src=\"plate_photos/expII/day15/after2_0-4m_plateII.jpeg\" width=\"450\"/>|<img src=\"plate_photos/expII/day15/after2_1m_plateII.jpeg\" width=\"450\"/>|<img src=\"plate_photos/expII/day15/after2_2m_plateII.jpeg\" width=\"450\"/>|<img src=\"plate_photos/expII/day15/after2_4-4m_plateII.jpeg\" width=\"450\"/>|\n",
    "\n",
    "Table 5: CFUs long-term effect?"
   ]
  },
  {
   "cell_type": "code",
   "execution_count": null,
   "metadata": {},
   "outputs": [],
   "source": []
  }
 ],
 "metadata": {
  "kernelspec": {
   "display_name": "Python 3",
   "language": "python",
   "name": "python3"
  },
  "language_info": {
   "codemirror_mode": {
    "name": "ipython",
    "version": 3
   },
   "file_extension": ".py",
   "mimetype": "text/x-python",
   "name": "python",
   "nbconvert_exporter": "python",
   "pygments_lexer": "ipython3",
   "version": "3.8.3"
  }
 },
 "nbformat": 4,
 "nbformat_minor": 4
}
