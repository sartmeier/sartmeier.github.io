{
 "cells": [
  {
   "cell_type": "code",
   "execution_count": 1,
   "metadata": {},
   "outputs": [
    {
     "data": {
      "text/html": [
       "<style>.container { width:100% !important; }</style>"
      ],
      "text/plain": [
       "<IPython.core.display.HTML object>"
      ]
     },
     "metadata": {},
     "output_type": "display_data"
    }
   ],
   "source": [
    "from IPython.core.display import display, HTML\n",
    "display(HTML(\"<style>.container { width:100% !important; }</style>\"))"
   ]
  },
  {
   "cell_type": "markdown",
   "metadata": {},
   "source": [
    "# Growth observations \n",
    "## schema of test room and plate distributions\n",
    "<img src=\"cleanair_experiment_schema.png\" alt=\"schema\" width=\"600\"/>"
   ]
  },
  {
   "cell_type": "markdown",
   "metadata": {},
   "source": [
    "|Date      |day|0,4m front I|0,4m front II|1m back I|1m back II|2m I|2m II|4,4m I|4,4m II|Sum|\n",
    "|----------|---|------------|-------------|-----------|------------|----|-----|------|-------|---|\n",
    "|28.12.2020|0  |            |             |           |            |    |     |      |       |0  |\n",
    "|29.12.2020|1  |            |             |           |            |    |     |      |       |0  |\n",
    "|30.12.2020|2  |            |             |           |            |    |     |      |       |0  |\n",
    "|31.12.2020|3  |            |             |           |            |    |     |      |       |0  |\n",
    "|1.1.2021  |4  |            |2            |1          |            |    |1    |      |1      |5  |\n",
    "|2.1.2021  |5  |1           |2            |1          |            |    |2    |1     |1      |8  |\n",
    "|3.1.2021  |6  |1           |2            |1          |            |    |2    |1     |1      |8  |\n",
    "|4.1.2021  |7  |            |             |           |            |    |     |      |       |0  |\n",
    "|5.1.2021  |8  |            |             |           |            |    |     |      |       |0  |\n",
    "|6.1.2021  |9  |            |             |           |            |    |     |      |       |0  |\n",
    "|7.1.2021  |10 |            |             |           |            |    |     |      |       |0  |\n",
    "|8.1.2021  |11 |            |             |           |            |    |     |      |       |0  |\n",
    "|9.1.2021  |12 |            |             |           |            |    |     |      |       |0  |\n",
    "|10.1.2021 |13 |            |             |           |            |    |     |      |       |0  |\n",
    "|11.1.2021 |14 |            |             |           |            |    |     |      |       |0  |\n",
    "|12.1.2021 |15 |            |             |           |            |    |     |      |       |0  |\n",
    "|13.1.2021 |16 |            |             |           |            |    |     |      |       |0  |\n",
    "|14.1.2021 |17 |            |             |           |            |    |     |      |       |0  |\n",
    "|15.1.2021 |18 |            |             |           |            |    |     |      |       |0  |\n",
    "|16.1.2021 |19 |            |             |           |            |    |     |      |       |0  |\n",
    "|17.1.2021 |20 |            |             |           |            |    |     |      |       |0  |"
   ]
  },
  {
   "cell_type": "markdown",
   "metadata": {},
   "source": [
    "from IPython.core.display import display, HTML\n",
    "display(HTML(\"<style>.container { width:100% !important; }</style>\"))\n",
    "\n",
    "# Growth observations \n",
    "## day 5\n",
    "<img src=\"cleanair_experiment_schema.png\" alt=\"schema\" width=\"600\"/>\n",
    "\n",
    "|Date      |day|0,4m front I|0,4m front II|1m back I|1m back II|2m I|2m II|4,4m I|4,4m II|Sum|\n",
    "|----------|---|------------|-------------|-----------|------------|----|-----|------|-------|---|\n",
    "|28.12.2020|0  |            |             |           |            |    |     |      |       |0  |\n",
    "|29.12.2020|1  |            |             |           |            |    |     |      |       |0  |\n",
    "|30.12.2020|2  |            |             |           |            |    |     |      |       |0  |\n",
    "|31.12.2020|3  |            |             |           |            |    |     |      |       |0  |\n",
    "|1.1.2021  |4  |            |2            |1          |            |    |1    |      |1      |5  |\n",
    "|2.1.2021  |5  |1           |2            |1          |            |    |2    |1     |1      |8  |\n",
    "|3.1.2021  |6  |1           |2            |1          |            |    |2    |1     |1      |8  |\n",
    "|4.1.2021  |7  |            |             |           |            |    |     |      |       |0  |\n",
    "|5.1.2021  |8  |            |             |           |            |    |     |      |       |0  |\n",
    "|6.1.2021  |9  |            |             |           |            |    |     |      |       |0  |\n",
    "|7.1.2021  |10 |            |             |           |            |    |     |      |       |0  |\n",
    "|8.1.2021  |11 |            |             |           |            |    |     |      |       |0  |\n",
    "|9.1.2021  |12 |            |             |           |            |    |     |      |       |0  |\n",
    "|10.1.2021 |13 |            |             |           |            |    |     |      |       |0  |\n",
    "|11.1.2021 |14 |            |             |           |            |    |     |      |       |0  |\n",
    "|12.1.2021 |15 |            |             |           |            |    |     |      |       |0  |\n",
    "|13.1.2021 |16 |            |             |           |            |    |     |      |       |0  |\n",
    "|14.1.2021 |17 |            |             |           |            |    |     |      |       |0  |\n",
    "|15.1.2021 |18 |            |             |           |            |    |     |      |       |0  |\n",
    "|16.1.2021 |19 |            |             |           |            |    |     |      |       |0  |\n",
    "|17.1.2021 |20 |            |             |           |            |    |     |      |       |0  |\n",
    "\n",
    "|day|0,4m front|1m back|2m|4,4m|\n",
    "|---|------------|-------------|-----------|------------|\n",
    "|0  |            |             |           |            |\n",
    "|1  |            |             |           |            |\n",
    "|2  |            |             |           |            |\n",
    "|3  |            |             |           |            |\n",
    "|4  |<img src=\"plate_photos/day4/before_0-4m_plateI.jpg\" width=\"450\"/>|<img src=\"plate_photos/day4/before_1m_plateI.jpg\" width=\"450\"/>|<img src=\"plate_photos/day4/before_2m_plateI.jpg\" width=\"450\"/>|<img src=\"plate_photos/day4/before_4-4m_plateI.jpg\" width=\"450\"/>|\n",
    "|4  |<img src=\"plate_photos/day4/before_0-4m_plateII.jpg\" width=\"450\"/>|<img src=\"plate_photos/day4/before_1m_plateII.jpg\" width=\"450\"/>|<img src=\"plate_photos/day4/before_2m_plateII.jpg\" width=\"450\"/>|<img src=\"plate_photos/day4/before_4-4m_plateII.jpg\" width=\"450\"/>|\n",
    "|5  |<img src=\"plate_photos/day5/before_0-4m_plateI.jpg\" width=\"450\"/>|<img src=\"plate_photos/day5/before_1m_plateI.jpg\" width=\"450\"/>|<img src=\"plate_photos/day5/before_2m_plateI.jpg\" width=\"450\"/>|<img src=\"plate_photos/day5/before_4-4m_plateI.jpg\" width=\"450\"/>|\n",
    "|5  |<img src=\"plate_photos/day5/before_0-4m_plateII.jpg\" width=\"450\"/>|<img src=\"plate_photos/day5/before_1m_plateII.jpg\" width=\"450\"/>|<img src=\"plate_photos/day5/before_2m_plateII.jpg\" width=\"450\"/>|<img src=\"plate_photos/day5/before_4-4m_plateII.jpg\" width=\"450\"/>|\n",
    "|6  |1           |2            |1          |            |\n",
    "|7  |            |             |           |            |\n",
    "|8  |            |             |           |            |\n",
    "|9  |            |             |           |            |\n",
    "|10 |            |             |           |            |\n",
    "|11 |            |             |           |            |\n",
    "|12 |            |             |           |            |\n",
    "|13 |            |             |           |            |\n",
    "|14 |            |             |           |            |\n",
    "|15 |            |             |           |            |\n",
    "|16 |            |             |           |            |\n",
    "|17 |            |             |           |            |\n",
    "|18 |            |             |           |            |\n",
    "|19 |            |             |           |            |\n",
    "|20 |            |             |           |            |\n",
    "\n"
   ]
  },
  {
   "cell_type": "code",
   "execution_count": null,
   "metadata": {},
   "outputs": [],
   "source": []
  }
 ],
 "metadata": {
  "kernelspec": {
   "display_name": "Python 3",
   "language": "python",
   "name": "python3"
  },
  "language_info": {
   "codemirror_mode": {
    "name": "ipython",
    "version": 3
   },
   "file_extension": ".py",
   "mimetype": "text/x-python",
   "name": "python",
   "nbconvert_exporter": "python",
   "pygments_lexer": "ipython3",
   "version": "3.8.3"
  }
 },
 "nbformat": 4,
 "nbformat_minor": 4
}
