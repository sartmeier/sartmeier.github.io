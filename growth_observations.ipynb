{
 "cells": [
  {
   "cell_type": "code",
   "execution_count": 1,
   "metadata": {},
   "outputs": [
    {
     "data": {
      "text/html": [
       "<style>.container { width:100% !important; }</style>"
      ],
      "text/plain": [
       "<IPython.core.display.HTML object>"
      ]
     },
     "metadata": {},
     "output_type": "display_data"
    }
   ],
   "source": [
    "from IPython.core.display import display, HTML\n",
    "display(HTML(\"<style>.container { width:100% !important; }</style>\"))"
   ]
  },
  {
   "cell_type": "markdown",
   "metadata": {},
   "source": [
    "# Growth observations \n",
    "These are the preliminary observations concering the air cleaning capacity of the CleanAir device as measured by bacterial and funghal growth that sedimented on plates containing growth agar. Colony counts as well as photos are be added continuously for two weeks.\n",
    "## schema of test room and plate distributions\n",
    "<img src=\"cleanair_experiment_schema.png\" alt=\"schema\" width=\"600\"/>\n",
    "\n",
    "brown circles indicate where agar plates were placed in the test room  \n",
    "plates were incubated for approx. 40min before air filtering with CleanAir device.  \n",
    "A second set of plates was incubated for approx. 40min after ClearAir device was switched on for 30min at full power and then turned off."
   ]
  },
  {
   "cell_type": "markdown",
   "metadata": {},
   "source": [
    "## Colony forming capacity in agar plates before air filtering\n",
    "\n",
    "|Date      |day|0,4m front I|0,4m front II|1m back I|1m back II|2m I|2m II|4,4m I|4,4m II|Sum|\n",
    "|----------|---|------------|-------------|-----------|------------|----|-----|------|-------|---|\n",
    "|28.12.2020|0  |            |             |           |            |    |     |      |       |0  |\n",
    "|29.12.2020|1  |            |             |           |            |    |     |      |       |0  |\n",
    "|30.12.2020|2  |            |             |           |            |    |     |      |       |0  |\n",
    "|31.12.2020|3  |            |             |           |            |    |     |      |       |0  |\n",
    "|1.1.2021  |4  |            |2            |1          |            |    |1    |      |1      |5  |\n",
    "|2.1.2021  |5  |1           |2            |1          |            |    |2    |1     |1      |8  |\n",
    "|3.1.2021  |6  |1           |2            |2          |2           |    |2    |1     |1      |11 |\n",
    "|4.1.2021  |7  |1           |2            |2          |3           |1   |2    |1     |1      |13 |\n",
    "|5.1.2021  |8  |5           |2            |2          |3           |2   |3    |1     |1      |19 |\n",
    "|6.1.2021  |9  |13          |2            |6          |3           |2   |3    |1     |1      |31 |\n",
    "|7.1.2021  |10 |14          |2            |10         |3           |3   |4    |1     |1      |38 |\n",
    "|8.1.2021  |11 |14          |2            |10         |3           |3   |4    |1     |1      |38 |\n",
    "|9.1.2021  |12 |14          |2            |12         |3           |3   |4    |1     |1      |40 |\n",
    "|10.1.2021 |13 |15          |2            |13         |3           |3   |4    |1     |1      |41 |\n",
    "|11.1.2021 |14 |15          |2            |13         |3           |3   |4    |1     |1      |41 |\n",
    "|12.1.2021 |15 |15          |2            |13         |3           |11  |4    |1     |1      |49 |\n",
    "\n",
    " Table 1: colony forming units (CFUs) counted per plate per day"
   ]
  },
  {
   "cell_type": "markdown",
   "metadata": {},
   "source": [
    "|day|0,4m front|1m back|2m|4,4m|\n",
    "|---|------------|-------------|-----------|------------|\n",
    "|0  |            |             |           |            |\n",
    "|1  |            |             |           |            |\n",
    "|2  |            |             |           |            |\n",
    "|3  |            |             |           |            |\n",
    "|4  |<img src=\"plate_photos/day4/before_0-4m_plateI.jpg\" width=\"450\"/>|<img src=\"plate_photos/day4/before_1m_plateI.jpg\" width=\"450\"/>|<img src=\"plate_photos/day4/before_2m_plateI.jpg\" width=\"450\"/>|<img src=\"plate_photos/day4/before_4-4m_plateI.jpg\" width=\"450\"/>|\n",
    "|4  |<img src=\"plate_photos/day4/before_0-4m_plateII.jpg\" width=\"450\"/>|<img src=\"plate_photos/day4/before_1m_plateII.jpg\" width=\"450\"/>|<img src=\"plate_photos/day4/before_2m_plateII.jpg\" width=\"450\"/>|<img src=\"plate_photos/day4/before_4-4m_plateII.jpg\" width=\"450\"/>|\n",
    "|5  |<img src=\"plate_photos/day5/before_0-4m_plateI.JPG\" width=\"450\"/>|<img src=\"plate_photos/day5/before_1m_plateI.JPG\" width=\"450\"/>|<img src=\"plate_photos/day5/before_2m_plateI.JPG\" width=\"450\"/>|<img src=\"plate_photos/day5/before_4-4m_plateI.JPG\" width=\"450\"/>|\n",
    "|5  |<img src=\"plate_photos/day5/before_0-4m_plateII.JPG\" width=\"450\"/>|<img src=\"plate_photos/day5/before_1m_plateII.JPG\" width=\"450\"/>|<img src=\"plate_photos/day5/before_2m_plateII.JPG\" width=\"450\"/>|<img src=\"plate_photos/day5/before_4-4m_plateII.JPG\" width=\"450\"/>|\n",
    "|6  |<img src=\"plate_photos/day6/before_0-4m_plateI.jpg\" width=\"450\"/>|<img src=\"plate_photos/day6/before_1m_plateI.jpg\" width=\"450\"/>|<img src=\"plate_photos/day6/before_2m_plateI.jpg\" width=\"450\"/>|<img src=\"plate_photos/day6/before_4-4m_plateI.jpg\" width=\"450\"/>|\n",
    "|6  |<img src=\"plate_photos/day6/before_0-4m_plateII.jpg\" width=\"450\"/>|<img src=\"plate_photos/day6/before_1m_plateII.jpg\" width=\"450\"/>|<img src=\"plate_photos/day6/before_2m_plateII.jpg\" width=\"450\"/>|<img src=\"plate_photos/day6/before_4-4m_plateII.jpg\" width=\"450\"/>|\n",
    "|7  |<img src=\"plate_photos/day7/before_0-4m_plateI.jpg\" width=\"450\"/>|<img src=\"plate_photos/day7/before_1m_plateI.jpg\" width=\"450\"/>|<img src=\"plate_photos/day7/before_2m_plateI.jpg\" width=\"450\"/>|<img src=\"plate_photos/day7/before_4-4m_plateI.jpg\" width=\"450\"/>|\n",
    "|7  |<img src=\"plate_photos/day7/before_0-4m_plateII.jpg\" width=\"450\"/>|<img src=\"plate_photos/day7/before_1m_plateII.jpg\" width=\"450\"/>|<img src=\"plate_photos/day7/before_2m_plateII.jpg\" width=\"450\"/>|<img src=\"plate_photos/day7/before_4-4m_plateII.jpg\" width=\"450\"/>|\n",
    "|8  |<img src=\"plate_photos/day8/before_0-4m_plateI.jpg\" width=\"450\"/>|<img src=\"plate_photos/day8/before_1m_plateI.jpg\" width=\"450\"/>|<img src=\"plate_photos/day8/before_2m_plateI.jpg\" width=\"450\"/>|<img src=\"plate_photos/day8/before_4-4m_plateI.jpg\" width=\"450\"/>|\n",
    "|8  |<img src=\"plate_photos/day8/before_0-4m_plateII.jpg\" width=\"450\"/>|<img src=\"plate_photos/day8/before_1m_plateII.jpg\" width=\"450\"/>|<img src=\"plate_photos/day8/before_2m_plateII.jpg\" width=\"450\"/>|<img src=\"plate_photos/day8/before_4-4m_plateII.jpg\" width=\"450\"/>|\n",
    "|9  |<img src=\"plate_photos/day9/before_0-4m_plateI.jpg\" width=\"450\"/>|<img src=\"plate_photos/day9/before_1m_plateI.jpg\" width=\"450\"/>|<img src=\"plate_photos/day9/before_2m_plateI.jpg\" width=\"450\"/>|<img src=\"plate_photos/day9/before_4-4m_plateI.jpg\" width=\"450\"/>|\n",
    "|9  |<img src=\"plate_photos/day9/before_0-4m_plateII.jpg\" width=\"450\"/>|<img src=\"plate_photos/day9/before_1m_plateII.jpg\" width=\"450\"/>|<img src=\"plate_photos/day9/before_2m_plateII.jpg\" width=\"450\"/>|<img src=\"plate_photos/day9/before_4-4m_plateII.jpg\" width=\"450\"/>|\n",
    "|10 |<img src=\"plate_photos/day10/before_0-4m_plateI.jpg\" width=\"450\"/>|<img src=\"plate_photos/day10/before_1m_plateI.jpg\" width=\"450\"/>|<img src=\"plate_photos/day10/before_2m_plateI.jpg\" width=\"450\"/>|<img src=\"plate_photos/day10/before_4-4m_plateI.jpg\" width=\"450\"/>|\n",
    "|10 |<img src=\"plate_photos/day10/before_0-4m_plateII.jpg\" width=\"450\"/>|<img src=\"plate_photos/day10/before_1m_plateII.jpg\" width=\"450\"/>|<img src=\"plate_photos/day10/before_2m_plateII.jpg\" width=\"450\"/>|<img src=\"plate_photos/day10/before_4-4m_plateII.jpg\" width=\"450\"/>|\n",
    "|11 |<img src=\"plate_photos/day11/before_0-4m_plateI.jpg\" width=\"450\"/>|<img src=\"plate_photos/day11/before_1m_plateI.jpg\" width=\"450\"/>|<img src=\"plate_photos/day11/before_2m_plateI.jpg\" width=\"450\"/>|<img src=\"plate_photos/day11/before_4-4m_plateI.jpg\" width=\"450\"/>|\n",
    "|11 |<img src=\"plate_photos/day11/before_0-4m_plateII.jpg\" width=\"450\"/>|<img src=\"plate_photos/day11/before_1m_plateII.jpg\" width=\"450\"/>|<img src=\"plate_photos/day11/before_2m_plateII.jpg\" width=\"450\"/>|<img src=\"plate_photos/day11/before_4-4m_plateII.jpg\" width=\"450\"/>|\n",
    "|12 |<img src=\"plate_photos/day12/before_0-4m_plateI.jpg\" width=\"450\"/>|<img src=\"plate_photos/day12/before_1m_plateI.jpg\" width=\"450\"/>|<img src=\"plate_photos/day12/before_2m_plateI.jpg\" width=\"450\"/>|<img src=\"plate_photos/day12/before_4-4m_plateI.jpg\" width=\"450\"/>|\n",
    "|12 |<img src=\"plate_photos/day12/before_0-4m_plateII.jpg\" width=\"450\"/>|<img src=\"plate_photos/day12/before_1m_plateII.jpg\" width=\"450\"/>|<img src=\"plate_photos/day12/before_2m_plateII.jpg\" width=\"450\"/>|<img src=\"plate_photos/day12/before_4-4m_plateII.jpg\" width=\"450\"/>|\n",
    "|13 |<img src=\"plate_photos/day13/before_0-4m_plateI.jpg\" width=\"450\"/>|<img src=\"plate_photos/day13/before_1m_plateI.jpg\" width=\"450\"/>|<img src=\"plate_photos/day13/before_2m_plateI.jpg\" width=\"450\"/>|<img src=\"plate_photos/day13/before_4-4m_plateI.jpg\" width=\"450\"/>|\n",
    "|13 |<img src=\"plate_photos/day13/before_0-4m_plateII.jpg\" width=\"450\"/>|<img src=\"plate_photos/day13/before_1m_plateII.jpg\" width=\"450\"/>|<img src=\"plate_photos/day13/before_2m_plateII.jpg\" width=\"450\"/>|<img src=\"plate_photos/day13/before_4-4m_plateII.jpg\" width=\"450\"/>|\n",
    "|14 |<img src=\"plate_photos/day14/before_0-4m_plateI.jpg\" width=\"450\"/>|<img src=\"plate_photos/day14/before_1m_plateI.jpg\" width=\"450\"/>|<img src=\"plate_photos/day14/before_2m_plateI.jpg\" width=\"450\"/>|<img src=\"plate_photos/day14/before_4-4m_plateI.jpg\" width=\"450\"/>|\n",
    "|14 |<img src=\"plate_photos/day14/before_0-4m_plateII.jpg\" width=\"450\"/>|<img src=\"plate_photos/day14/before_1m_plateII.jpg\" width=\"450\"/>|<img src=\"plate_photos/day14/before_2m_plateII.jpg\" width=\"450\"/>|<img src=\"plate_photos/day14/before_4-4m_plateII.jpg\" width=\"450\"/>|\n",
    "|15 |            |             |           |            |\n",
    "|16 |            |             |           |            |\n",
    "|17 |            |             |           |            |\n",
    "|18 |            |             |           |            |\n",
    "|19 |            |             |           |            |\n",
    "|20 |            |             |           |            |\n",
    "\n"
   ]
  },
  {
   "cell_type": "markdown",
   "metadata": {},
   "source": [
    "## Colony forming capacity in agar plates after air filtering\n",
    "\n",
    "\n",
    "|Date      |day|0,4m front I|0,4m front II|1m back I|1m back II|2m I|2m II|4,4m I|4,4m II|Sum|\n",
    "|----------|---|------------|-------------|-----------|------------|----|-----|------|-------|---|\n",
    "|28.12.2020|0  |            |             |           |            |    |     |      |       |0  |\n",
    "|29.12.2020|1  |            |             |           |            |    |     |      |       |0  |\n",
    "|30.12.2020|2  |            |             |           |            |    |     |      |       |0  |\n",
    "|31.12.2020|3  |            |             |           |            |    |     |      |       |0  |\n",
    "|1.1.2021  |4  |            |1            |           |            |    |     |      |       |1  |\n",
    "|2.1.2021  |5  |            |1            |1          |            |    |     |      |       |2  |\n",
    "|3.1.2021  |6  |1           |1            |1          |            |    |     |      |       |3  |\n",
    "|4.1.2021  |7  |2           |1            |1          |            |    |     |1     |       |5  |\n",
    "|5.1.2021  |8  |3           |2            |1          |            |    |     |1     |       |7  |\n",
    "|6.1.2021  |9  |3           |3            |1          |            |    |     |1     |       |8  |\n",
    "|7.1.2021  |10 |4           |3            |2          |            |    |     |4     |       |13 |\n",
    "|8.1.2021  |11 |4           |3            |2          |2           |    |1    |4     |       |15 |\n",
    "|9.1.2021  |12 |4           |3            |2          |2           |    |1    |5     |       |16 |\n",
    "|10.1.2021 |13 |4           |3            |2          |4           |    |1    |6     |       |19 |\n",
    "|11.1.2021 |14 |4           |3            |2          |5           |    |1    |6     |       |19 |\n",
    "|12.1.2021 |15 |4           |3            |2          |5           |    |1    |8     |       |22 |\n",
    "\n",
    "Table 3: colony forming units (CFUs) counted per plate per day"
   ]
  },
  {
   "cell_type": "markdown",
   "metadata": {},
   "source": [
    "|day|0,4m front|1m back|2m|4,4m|\n",
    "|---|------------|-------------|-----------|------------|\n",
    "|0  |            |             |           |            |\n",
    "|1  |            |             |           |            |\n",
    "|2  |            |             |           |            |\n",
    "|3  |            |             |           |            |\n",
    "|4  |<img src=\"plate_photos/day4/after_0-4m_plateI.jpg\" width=\"450\"/>|<img src=\"plate_photos/day4/after_1m_plateI.jpg\" width=\"450\"/>|<img src=\"plate_photos/day4/after_2m_plateI.jpg\" width=\"450\"/>|<img src=\"plate_photos/day4/after_4-4m_plateI.jpg\" width=\"450\"/>|\n",
    "|4  |<img src=\"plate_photos/day4/after_0-4m_plateII.jpg\" width=\"450\"/>|<img src=\"plate_photos/day4/after_1m_plateII.jpg\" width=\"450\"/>|<img src=\"plate_photos/day4/after_2m_plateII.jpg\" width=\"450\"/>|<img src=\"plate_photos/day4/after_4-4m_plateII.jpg\" width=\"450\"/>|\n",
    "|5  |<img src=\"plate_photos/day5/after_0-4m_plateI.JPG\" width=\"450\"/>|<img src=\"plate_photos/day5/after_1m_plateI.JPG\" width=\"450\"/>|<img src=\"plate_photos/day5/after_2m_plateI.JPG\" width=\"450\"/>|<img src=\"plate_photos/day5/after_4-4m_plateI.JPG\" width=\"450\"/>|\n",
    "|5  |<img src=\"plate_photos/day5/after_0-4m_plateII.JPG\" width=\"450\"/>|<img src=\"plate_photos/day5/after_1m_plateII.JPG\" width=\"450\"/>|<img src=\"plate_photos/day5/after_2m_plateII.JPG\" width=\"450\"/>|<img src=\"plate_photos/day5/after_4-4m_plateII.JPG\" width=\"450\"/>|\n",
    "|6  |<img src=\"plate_photos/day6/after_0-4m_plateI.jpg\" width=\"450\"/>|<img src=\"plate_photos/day6/after_1m_plateI.jpg\" width=\"450\"/>|<img src=\"plate_photos/day6/after_2m_plateI.jpg\" width=\"450\"/>|<img src=\"plate_photos/day6/after_4-4m_plateI.jpg\" width=\"450\"/>|\n",
    "|6  |<img src=\"plate_photos/day6/after_0-4m_plateII.jpg\" width=\"450\"/>|<img src=\"plate_photos/day6/after_1m_plateII.jpg\" width=\"450\"/>|<img src=\"plate_photos/day6/after_2m_plateII.jpg\" width=\"450\"/>|<img src=\"plate_photos/day6/after_4-4m_plateII.jpg\" width=\"450\"/>|\n",
    "|7  |<img src=\"plate_photos/day7/after_0-4m_plateI.jpg\" width=\"450\"/>|<img src=\"plate_photos/day7/after_1m_plateI.jpg\" width=\"450\"/>|<img src=\"plate_photos/day7/after_2m_plateI.jpg\" width=\"450\"/>|<img src=\"plate_photos/day7/after_4-4m_plateI.jpg\" width=\"450\"/>|\n",
    "|7  |<img src=\"plate_photos/day7/after_0-4m_plateII.jpg\" width=\"450\"/>|<img src=\"plate_photos/day7/after_1m_plateII.jpg\" width=\"450\"/>|<img src=\"plate_photos/day7/after_2m_plateII.jpg\" width=\"450\"/>|<img src=\"plate_photos/day7/after_4-4m_plateII.jpg\" width=\"450\"/>|\n",
    "|8  |<img src=\"plate_photos/day8/after_0-4m_plateI.jpg\" width=\"450\"/>|<img src=\"plate_photos/day8/after_1m_plateI.jpg\" width=\"450\"/>|<img src=\"plate_photos/day8/after_2m_plateI.jpg\" width=\"450\"/>|<img src=\"plate_photos/day8/after_4-4m_plateI.jpg\" width=\"450\"/>|\n",
    "|8  |<img src=\"plate_photos/day8/after_0-4m_plateII.jpg\" width=\"450\"/>|<img src=\"plate_photos/day8/after_1m_plateII.jpg\" width=\"450\"/>|<img src=\"plate_photos/day8/after_2m_plateII.jpg\" width=\"450\"/>|<img src=\"plate_photos/day8/after_4-4m_plateII.jpg\" width=\"450\"/>|\n",
    "|9  |<img src=\"plate_photos/day9/after_0-4m_plateI.jpg\" width=\"450\"/>|<img src=\"plate_photos/day9/after_1m_plateI.jpg\" width=\"450\"/>|<img src=\"plate_photos/day9/after_2m_plateI.jpg\" width=\"450\"/>|<img src=\"plate_photos/day9/after_4-4m_plateI.jpg\" width=\"450\"/>|\n",
    "|9  |<img src=\"plate_photos/day9/after_0-4m_plateII.jpg\" width=\"450\"/>|<img src=\"plate_photos/day9/after_1m_plateII.jpg\" width=\"450\"/>|<img src=\"plate_photos/day9/after_2m_plateII.jpg\" width=\"450\"/>|<img src=\"plate_photos/day9/after_4-4m_plateII.jpg\" width=\"450\"/>|\n",
    "|10 |<img src=\"plate_photos/day10/after_0-4m_plateI.jpg\" width=\"450\"/>|<img src=\"plate_photos/day10/after_1m_plateI.jpg\" width=\"450\"/>|<img src=\"plate_photos/day10/after_2m_plateI.jpg\" width=\"450\"/>|<img src=\"plate_photos/day10/after_4-4m_plateI.jpg\" width=\"450\"/>|\n",
    "|10 |<img src=\"plate_photos/day10/after_0-4m_plateII.jpg\" width=\"450\"/>|<img src=\"plate_photos/day10/after_1m_plateII.jpg\" width=\"450\"/>|<img src=\"plate_photos/day10/after_2m_plateII.jpg\" width=\"450\"/>|<img src=\"plate_photos/day10/after_4-4m_plateII.jpg\" width=\"450\"/>|\n",
    "|11 |<img src=\"plate_photos/day11/after_0-4m_plateI.jpg\" width=\"450\"/>|<img src=\"plate_photos/day11/after_1m_plateI.jpg\" width=\"450\"/>|<img src=\"plate_photos/day11/after_2m_plateI.jpg\" width=\"450\"/>|<img src=\"plate_photos/day11/after_4-4m_plateI.jpg\" width=\"450\"/>|\n",
    "|11 |<img src=\"plate_photos/day11/after_0-4m_plateII.jpg\" width=\"450\"/>|<img src=\"plate_photos/day11/after_1m_plateII.jpg\" width=\"450\"/>|<img src=\"plate_photos/day11/after_2m_plateII.jpg\" width=\"450\"/>|<img src=\"plate_photos/day11/after_4-4m_plateII.jpg\" width=\"450\"/>|\n",
    "|12 |<img src=\"plate_photos/day12/after_0-4m_plateI.jpg\" width=\"450\"/>|<img src=\"plate_photos/day12/after_1m_plateI.jpg\" width=\"450\"/>|<img src=\"plate_photos/day12/after_2m_plateI.jpg\" width=\"450\"/>|<img src=\"plate_photos/day12/after_4-4m_plateI.jpg\" width=\"450\"/>|\n",
    "|12 |<img src=\"plate_photos/day12/after_0-4m_plateII.jpg\" width=\"450\"/>|<img src=\"plate_photos/day12/after_1m_plateII.jpg\" width=\"450\"/>|<img src=\"plate_photos/day12/after_2m_plateII.jpg\" width=\"450\"/>|<img src=\"plate_photos/day12/after_4-4m_plateII.jpg\" width=\"450\"/>|\n",
    "|13 |<img src=\"plate_photos/day13/after_0-4m_plateI.jpg\" width=\"450\"/>|<img src=\"plate_photos/day13/after_1m_plateI.jpg\" width=\"450\"/>|<img src=\"plate_photos/day13/after_2m_plateI.jpg\" width=\"450\"/>|<img src=\"plate_photos/day13/after_4-4m_plateI.jpg\" width=\"450\"/>|\n",
    "|13 |<img src=\"plate_photos/day13/after_0-4m_plateII.jpg\" width=\"450\"/>|<img src=\"plate_photos/day13/after_1m_plateII.jpg\" width=\"450\"/>|<img src=\"plate_photos/day13/after_2m_plateII.jpg\" width=\"450\"/>|<img src=\"plate_photos/day13/after_4-4m_plateII.jpg\" width=\"450\"/>|\n",
    "|14 |<img src=\"plate_photos/day14/after_0-4m_plateI.jpg\" width=\"450\"/>|<img src=\"plate_photos/day14/after_1m_plateI.jpg\" width=\"450\"/>|<img src=\"plate_photos/day14/after_2m_plateI.jpg\" width=\"450\"/>|<img src=\"plate_photos/day14/after_4-4m_plateI.jpg\" width=\"450\"/>|\n",
    "|14 |<img src=\"plate_photos/day14/after_0-4m_plateII.jpg\" width=\"450\"/>|<img src=\"plate_photos/day14/after_1m_plateII.jpg\" width=\"450\"/>|<img src=\"plate_photos/day14/after_2m_plateII.jpg\" width=\"450\"/>|<img src=\"plate_photos/day14/after_4-4m_plateII.jpg\" width=\"450\"/>|\n",
    "|15 |            |             |           |            |\n",
    "|16 |            |             |           |            |\n",
    "|17 |            |             |           |            |\n",
    "|18 |            |             |           |            |\n",
    "|19 |            |             |           |            |\n",
    "|20 |            |             |           |            |\n",
    "  \n",
    "Table 4: photos of agar plates, red circles and arrows indicate CFUs"
   ]
  },
  {
   "cell_type": "code",
   "execution_count": null,
   "metadata": {},
   "outputs": [],
   "source": []
  }
 ],
 "metadata": {
  "kernelspec": {
   "display_name": "Python 3",
   "language": "python",
   "name": "python3"
  },
  "language_info": {
   "codemirror_mode": {
    "name": "ipython",
    "version": 3
   },
   "file_extension": ".py",
   "mimetype": "text/x-python",
   "name": "python",
   "nbconvert_exporter": "python",
   "pygments_lexer": "ipython3",
   "version": "3.8.3"
  }
 },
 "nbformat": 4,
 "nbformat_minor": 4
}
