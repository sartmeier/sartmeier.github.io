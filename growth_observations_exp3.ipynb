{
 "cells": [
  {
   "cell_type": "code",
   "execution_count": 2,
   "metadata": {},
   "outputs": [
    {
     "data": {
      "text/html": [
       "<style>.container { width:100% !important; }</style>"
      ],
      "text/plain": [
       "<IPython.core.display.HTML object>"
      ]
     },
     "metadata": {},
     "output_type": "display_data"
    }
   ],
   "source": [
    "from IPython.core.display import display, HTML\n",
    "display(HTML(\"<style>.container { width:100% !important; }</style>\"))"
   ]
  },
  {
   "cell_type": "markdown",
   "metadata": {},
   "source": [
    "# Growth observations \n",
    "This is the third experiment concerning the air cleaning capacity of the CleanAir device. Tests were done with and without the device switched on.  \n",
    "These are the preliminary observations as measured by bacterial and fungal growth that sedimented on plates containing growth agar. Colony counts as well as photos are added continuously for two weeks.\n",
    "## schema of test room and plate distributions\n",
    "<img src=\"cleanair_experiment_schema3.png\" alt=\"schema\" width=\"600\"/>\n",
    "\n",
    "brown circles indicate where agar plates were placed in the test room  \n",
    "Persons were inside the room for 30min prior to incubating the first set of plates for half an hour.  \n",
    "The Clean Air device was run for 30min at full power without any persons in the room. Persons were then sitting in the room for 30min prior to incubating the second set of plates for 30min. The third set of plates was incubated for 30min immediately after the incubation of the second set. The Clean Air device was turned on at full power for the whole period of time."
   ]
  },
  {
   "cell_type": "markdown",
   "metadata": {},
   "source": [
    "## Colony forming capacity in agar plates without air filtering\n",
    "\n",
    "|Date      |day|0,4m front I|0,4m front II|1m back I|1m back II|2m I|2m II|4,4m I|4,4m II|Sum|\n",
    "|----------|---|------------|-------------|-----------|------------|----|-----|------|-------|---|\n",
    "|15.02.2021 |0  |           |             |         |          |    |    |     |      |  |\n",
    "|16.02.2021 |1  |           |             |         |          |    |    |     |      |  |\n",
    "|17.02.2021 |2  |  1        |             |         |          |  2 |2   |     | 1    |6 |\n",
    "|18.02.2021 |3  |  4        |             | 1       | 1        |  3 |5   |1    | 1    |16|\n",
    "|19.02.2021 |4  |  8        | 1           | 2       | 1        |  5 |6   |1    | 5    |29|\n",
    "|20.02.2021 |5  |  8        | 2           | 4       | 1        |  6 |8   |2    | 6    |37|\n",
    "|21.02.2021 |6  |  9        | 2           | 4       | 1        |  6 |8   |2    | 6    |38|\n",
    "|22.02.2021 |7  |  9        | 2           | 6       | 2        |  6 |8   |4    | 6    |43|\n",
    "|23.02.2021 |8  |  9        | 3           | 6       | 3        |  6 |8   |4    | 6    |45|\n",
    "|24.02.2021  |9 |  9        | 3           | 6       | 3        |  6 |9   |5    | 6    |47|\n",
    "|25.02.2021 |10 |  9        | 3           | 6       | 4         | 6  |9   |5    | 6    |48|\n",
    "|26.02.2021 |11 |  9        | 3           | 6       | 4         | 6  |9   |5    | 6    |48|\n",
    "|27.02.2021 |12 |  10       | 3           | 6       | 4         | 6  |9   |5    | 6    |49|\n",
    "|28.02.2021 |13 |  10       | 3           | 6       | 4         | 6  |9   |5    | 6    |49|\n",
    "|01.03.2021 |14 |           |             |         |           |    |    |     |      |  |\n",
    "|02.03.2021 |14 |           |             |         |           |    |    |     |      |  |  \n",
    "\n",
    "\n",
    "\n",
    "Table 1: colony forming units (CFUs) counted per plate per day"
   ]
  },
  {
   "cell_type": "markdown",
   "metadata": {},
   "source": [
    "|day|0,4m front|1m back|2m|4,4m|\n",
    "|---|------------|-------------|-----------|------------|\n",
    "|0  |            |             |           |            |\n",
    "|1  |            |             |           |            |\n",
    "|2  |<img src=\"plate_photos/expIII/day2/wo_0-4m_plateI.jpeg\" width=\"450\"/>|<img src=\"plate_photos/expIII/day2/wo_1m_plateI.jpeg\" width=\"450\"/>|<img src=\"plate_photos/expIII/day2/wo_2m_plateI.jpeg\" width=\"450\"/>|<img src=\"plate_photos/expIII/day2/wo_4-4m_plateI.jpeg\" width=\"450\"/>|\n",
    "|2  |<img src=\"plate_photos/expIII/day2/wo_0-4m_plateII.jpeg\" width=\"450\"/>|<img src=\"plate_photos/expIII/day2/wo_1m_plateII.jpeg\" width=\"450\"/>|<img src=\"plate_photos/expIII/day2/wo_2m_plateII.jpeg\" width=\"450\"/>|<img src=\"plate_photos/expIII/day2/wo_4-4m_plateII.jpeg\" width=\"450\"/>|\n",
    "|3  |<img src=\"plate_photos/expIII/day3/wo_0-4m_plateI.jpeg\" width=\"450\"/>|<img src=\"plate_photos/expIII/day3/wo_1m_plateI.jpeg\" width=\"450\"/>|<img src=\"plate_photos/expIII/day3/wo_2m_plateI.jpeg\" width=\"450\"/>|<img src=\"plate_photos/expIII/day3/wo_4-4m_plateI.jpeg\" width=\"450\"/>|\n",
    "|3  |<img src=\"plate_photos/expIII/day3/wo_0-4m_plateII.jpeg\" width=\"450\"/>|<img src=\"plate_photos/expIII/day3/wo_1m_plateII.jpeg\" width=\"450\"/>|<img src=\"plate_photos/expIII/day3/wo_2m_plateII.jpeg\" width=\"450\"/>|<img src=\"plate_photos/expIII/day3/wo_4-4m_plateII.jpeg\" width=\"450\"/>|\n",
    "|4  |<img src=\"plate_photos/expIII/day4/wo_0-4m_plateI.jpeg\" width=\"450\"/>|<img src=\"plate_photos/expIII/day4/wo_1m_plateI.jpeg\" width=\"450\"/>|<img src=\"plate_photos/expIII/day4/wo_2m_plateI.jpeg\" width=\"450\"/>|<img src=\"plate_photos/expIII/day4/wo_4-4m_plateI.jpeg\" width=\"450\"/>|\n",
    "|4  |<img src=\"plate_photos/expIII/day4/wo_0-4m_plateII.jpeg\" width=\"450\"/>|<img src=\"plate_photos/expIII/day4/wo_1m_plateII.jpeg\" width=\"450\"/>|<img src=\"plate_photos/expIII/day4/wo_2m_plateII.jpeg\" width=\"450\"/>|<img src=\"plate_photos/expIII/day4/wo_4-4m_plateII.jpeg\" width=\"450\"/>|\n",
    "|5  |<img src=\"plate_photos/expIII/day5/wo_0-4m_plateI.jpeg\" width=\"450\"/>|<img src=\"plate_photos/expIII/day5/wo_1m_plateI.jpeg\" width=\"450\"/>|<img src=\"plate_photos/expIII/day5/wo_2m_plateI.jpeg\" width=\"450\"/>|<img src=\"plate_photos/expIII/day5/wo_4-4m_plateI.jpeg\" width=\"450\"/>|\n",
    "|5  |<img src=\"plate_photos/expIII/day5/wo_0-4m_plateII.jpeg\" width=\"450\"/>|<img src=\"plate_photos/expIII/day5/wo_1m_plateII.jpeg\" width=\"450\"/>|<img src=\"plate_photos/expIII/day5/wo_2m_plateII.jpeg\" width=\"450\"/>|<img src=\"plate_photos/expIII/day5/wo_4-4m_plateII.jpeg\" width=\"450\"/>|\n",
    "|6  |<img src=\"plate_photos/expIII/day6/wo_0-4m_plateI.jpeg\" width=\"450\"/>|<img src=\"plate_photos/expIII/day6/wo_1m_plateI.jpeg\" width=\"450\"/>|<img src=\"plate_photos/expIII/day6/wo_2m_plateI.jpeg\" width=\"450\"/>|<img src=\"plate_photos/expIII/day6/wo_4-4m_plateI.jpeg\" width=\"450\"/>|\n",
    "|6  |<img src=\"plate_photos/expIII/day6/wo_0-4m_plateII.jpeg\" width=\"450\"/>|<img src=\"plate_photos/expIII/day6/wo_1m_plateII.jpeg\" width=\"450\"/>|<img src=\"plate_photos/expIII/day6/wo_2m_plateII.jpeg\" width=\"450\"/>|<img src=\"plate_photos/expIII/day6/wo_4-4m_plateII.jpeg\" width=\"450\"/>|\n",
    "|7  |<img src=\"plate_photos/expIII/day7/wo_0-4m_plateI.jpeg\" width=\"450\"/>|<img src=\"plate_photos/expIII/day7/wo_1m_plateI.jpeg\" width=\"450\"/>|<img src=\"plate_photos/expIII/day7/wo_2m_plateI.jpeg\" width=\"450\"/>|<img src=\"plate_photos/expIII/day7/wo_4-4m_plateI.jpeg\" width=\"450\"/>|\n",
    "|7  |<img src=\"plate_photos/expIII/day7/wo_0-4m_plateII.jpeg\" width=\"450\"/>|<img src=\"plate_photos/expIII/day7/wo_1m_plateII.jpeg\" width=\"450\"/>|<img src=\"plate_photos/expIII/day7/wo_2m_plateII.jpeg\" width=\"450\"/>|<img src=\"plate_photos/expIII/day7/wo_4-4m_plateII.jpeg\" width=\"450\"/>|\n",
    "|8  |<img src=\"plate_photos/expIII/day8/wo_0-4m_plateI.jpeg\" width=\"450\"/>|<img src=\"plate_photos/expIII/day8/wo_1m_plateI.jpeg\" width=\"450\"/>|<img src=\"plate_photos/expIII/day8/wo_2m_plateI.jpeg\" width=\"450\"/>|<img src=\"plate_photos/expIII/day8/wo_4-4m_plateI.jpeg\" width=\"450\"/>|\n",
    "|8  |<img src=\"plate_photos/expIII/day8/wo_0-4m_plateII.jpeg\" width=\"450\"/>|<img src=\"plate_photos/expIII/day8/wo_1m_plateII.jpeg\" width=\"450\"/>|<img src=\"plate_photos/expIII/day8/wo_2m_plateII.jpeg\" width=\"450\"/>|<img src=\"plate_photos/expIII/day8/wo_4-4m_plateII.jpeg\" width=\"450\"/>|\n",
    "|9  |<img src=\"plate_photos/expIII/day9/wo_0-4m_plateI.jpeg\" width=\"450\"/>|<img src=\"plate_photos/expIII/day9/wo_1m_plateI.jpeg\" width=\"450\"/>|<img src=\"plate_photos/expIII/day9/wo_2m_plateI.jpeg\" width=\"450\"/>|<img src=\"plate_photos/expIII/day9/wo_4-4m_plateI.jpeg\" width=\"450\"/>|\n",
    "|9  |<img src=\"plate_photos/expIII/day9/wo_0-4m_plateII.jpeg\" width=\"450\"/>|<img src=\"plate_photos/expIII/day9/wo_1m_plateII.jpeg\" width=\"450\"/>|<img src=\"plate_photos/expIII/day9/wo_2m_plateII.jpeg\" width=\"450\"/>|<img src=\"plate_photos/expIII/day9/wo_4-4m_plateII.jpeg\" width=\"450\"/>|\n",
    "|10 |<img src=\"plate_photos/expIII/day10/wo_0-4m_plateI.jpeg\" width=\"450\"/>|<img src=\"plate_photos/expIII/day10/wo_1m_plateI.jpeg\" width=\"450\"/>|<img src=\"plate_photos/expIII/day10/wo_2m_plateI.jpeg\" width=\"450\"/>|<img src=\"plate_photos/expIII/day10/wo_4-4m_plateI.jpeg\" width=\"450\"/>|\n",
    "|10 |<img src=\"plate_photos/expIII/day10/wo_0-4m_plateII.jpeg\" width=\"450\"/>|<img src=\"plate_photos/expIII/day10/wo_1m_plateII.jpeg\" width=\"450\"/>|<img src=\"plate_photos/expIII/day10/wo_2m_plateII.jpeg\" width=\"450\"/>|<img src=\"plate_photos/expIII/day10/wo_4-4m_plateII.jpeg\" width=\"450\"/>|\n",
    "|11 |<img src=\"plate_photos/expIII/day11/wo_0-4m_plateI.jpeg\" width=\"450\"/>|<img src=\"plate_photos/expIII/day11/wo_1m_plateI.jpeg\" width=\"450\"/>|<img src=\"plate_photos/expIII/day11/wo_2m_plateI.jpeg\" width=\"450\"/>|<img src=\"plate_photos/expIII/day11/wo_4-4m_plateI.jpeg\" width=\"450\"/>|\n",
    "|11 |<img src=\"plate_photos/expIII/day11/wo_0-4m_plateII.jpeg\" width=\"450\"/>|<img src=\"plate_photos/expIII/day11/wo_1m_plateII.jpeg\" width=\"450\"/>|<img src=\"plate_photos/expIII/day11/wo_2m_plateII.jpeg\" width=\"450\"/>|<img src=\"plate_photos/expIII/day11/wo_4-4m_plateII.jpeg\" width=\"450\"/>|\n",
    "|12 |<img src=\"plate_photos/expIII/day12/wo_0-4m_plateI.jpeg\" width=\"450\"/>|<img src=\"plate_photos/expIII/day12/wo_1m_plateI.jpeg\" width=\"450\"/>|<img src=\"plate_photos/expIII/day12/wo_2m_plateI.jpeg\" width=\"450\"/>|<img src=\"plate_photos/expIII/day12/wo_4-4m_plateI.jpeg\" width=\"450\"/>|\n",
    "|12 |<img src=\"plate_photos/expIII/day12/wo_0-4m_plateII.jpeg\" width=\"450\"/>|<img src=\"plate_photos/expIII/day12/wo_1m_plateII.jpeg\" width=\"450\"/>|<img src=\"plate_photos/expIII/day12/wo_2m_plateII.jpeg\" width=\"450\"/>|<img src=\"plate_photos/expIII/day12/wo_4-4m_plateII.jpeg\" width=\"450\"/>|\n",
    "|13 |<img src=\"plate_photos/expIII/day13/wo_0-4m_plateI.jpeg\" width=\"450\"/>|<img src=\"plate_photos/expIII/day13/wo_1m_plateI.jpeg\" width=\"450\"/>|<img src=\"plate_photos/expIII/day13/wo_2m_plateI.jpeg\" width=\"450\"/>|<img src=\"plate_photos/expIII/day13/wo_4-4m_plateI.jpeg\" width=\"450\"/>|\n",
    "|13 |<img src=\"plate_photos/expIII/day13/wo_0-4m_plateII.jpeg\" width=\"450\"/>|<img src=\"plate_photos/expIII/day13/wo_1m_plateII.jpeg\" width=\"450\"/>|<img src=\"plate_photos/expIII/day13/wo_2m_plateII.jpeg\" width=\"450\"/>|<img src=\"plate_photos/expIII/day13/wo_4-4m_plateII.jpeg\" width=\"450\"/>|\n",
    "|14 |<img src=\"plate_photos/expIII/day14/wo_0-4m_plateI.jpeg\" width=\"450\"/>|<img src=\"plate_photos/expIII/day14/wo_1m_plateI.jpeg\" width=\"450\"/>|<img src=\"plate_photos/expIII/day14/wo_2m_plateI.jpeg\" width=\"450\"/>|<img src=\"plate_photos/expIII/day14/wo_4-4m_plateI.jpeg\" width=\"450\"/>|\n",
    "|14 |<img src=\"plate_photos/expIII/day14/wo_0-4m_plateII.jpeg\" width=\"450\"/>|<img src=\"plate_photos/expIII/day14/wo_1m_plateII.jpeg\" width=\"450\"/>|<img src=\"plate_photos/expIII/day14/wo_2m_plateII.jpeg\" width=\"450\"/>|<img src=\"plate_photos/expIII/day14/wo_4-4m_plateII.jpeg\" width=\"450\"/>|\n",
    "|15 |<img src=\"plate_photos/expIII/day15/wo_0-4m_plateI.jpeg\" width=\"450\"/>|<img src=\"plate_photos/expIII/day15/wo_1m_plateI.jpeg\" width=\"450\"/>|<img src=\"plate_photos/expIII/day15/wo_2m_plateI.jpeg\" width=\"450\"/>|<img src=\"plate_photos/expIII/day15/wo_4-4m_plateI.jpeg\" width=\"450\"/>|\n",
    "|15 |<img src=\"plate_photos/expIII/day15/wo_0-4m_plateII.jpeg\" width=\"450\"/>|<img src=\"plate_photos/expIII/day15/wo_1m_plateII.jpeg\" width=\"450\"/>|<img src=\"plate_photos/expIII/day15/wo_2m_plateII.jpeg\" width=\"450\"/>|<img src=\"plate_photos/expIII/day15/wo_4-4m_plateII.jpeg\" width=\"450\"/>|\n"
   ]
  },
  {
   "cell_type": "markdown",
   "metadata": {},
   "source": [
    "## Colony forming capacity in agar plates with air filtering\n",
    "\n",
    "\n",
    "|Date      |day|0,4m front I|0,4m front II|1m back I|1m back II|2m I|2m II|4,4m I|4,4m II|Sum|\n",
    "|----------|---|------------|-------------|-----------|------------|----|-----|------|-------|---|\n",
    "|15.02.2021 |0  |           |             |          |           |    |    |     |      |  |\n",
    "|16.02.2021 |1  |           |             |          |           |    |    |     |      |  |\n",
    "|17.02.2021 |2  |           |             | 1        |           |    |    |     |      |1 |\n",
    "|18.02.2021 |3  | 2         |             | 2        | 1         |    |    |1    |      |6 |\n",
    "|19.02.2021 |4  | 2         |             | 2        | 2         | 2  |    |2    |      |10|\n",
    "|20.02.2021 |5  | 2         | 2           | 3        | 3         | 2  |    |2    |1     |15|\n",
    "|21.02.2021 |6  | 2         | 2           | 4        | 3         | 2  |    |2    |1     |16|\n",
    "|22.02.2021 |7  | 2         | 2           | 5        | 3         | 2  |    |2    |1     |17|\n",
    "|23.02.2021 |8  | 4         | 2           | 5        | 3         | 2  |    |2    |1     |19|\n",
    "|24.02.2021  |9 | 4         | 2           | 6        | 3         | 2  |    |2    |1     |20|\n",
    "|25.02.2021 |10 | 4         | 2           | 6        | 3         | 2  |    |2    |1     |20|\n",
    "|26.02.2021 |11 | 4         | 2           | 6        | 3         | 2  |    |2    |1     |20|\n",
    "|27.02.2021 |12 | 4         | 2           | 6        | 3         | 2  |    |2    |1     |20|\n",
    "|28.02.2021 |13 | 4         | 2           | 6        | 3         | 2  |    |2    |1     |20|\n",
    "|01.03.2021 |14 |           |             |          |           |    |    |     |      |  |\n",
    "|02.03.2021 |14 |           |             |          |           |    |    |     |      |  |\n",
    "\n",
    "Table 3: colony forming units (CFUs) counted per plate per day"
   ]
  },
  {
   "cell_type": "markdown",
   "metadata": {},
   "source": [
    "|day|0,4m front|1m back|2m|4,4m|\n",
    "|---|------------|-------------|-----------|------------|\n",
    "|0  |            |             |           |            |\n",
    "|1  |            |             |           |            |\n",
    "|2  |<img src=\"plate_photos/expIII/day2/w1_0-4m_plateI.jpeg\" width=\"450\"/>|<img src=\"plate_photos/expIII/day2/w1_1m_plateI.jpeg\" width=\"450\"/>|<img src=\"plate_photos/expIII/day2/w1_2m_plateI.jpeg\" width=\"450\"/>|<img src=\"plate_photos/expIII/day2/w1_4-4m_plateI.jpeg\" width=\"450\"/>|\n",
    "|2  |<img src=\"plate_photos/expIII/day2/w1_0-4m_plateII.jpeg\" width=\"450\"/>|<img src=\"plate_photos/expIII/day2/w1_1m_plateII.jpeg\" width=\"450\"/>|<img src=\"plate_photos/expIII/day2/w1_2m_plateII.jpeg\" width=\"450\"/>|<img src=\"plate_photos/expIII/day2/w1_4-4m_plateII.jpeg\" width=\"450\"/>|\n",
    "|3  |<img src=\"plate_photos/expIII/day3/w1_0-4m_plateI.jpeg\" width=\"450\"/>|<img src=\"plate_photos/expIII/day3/w1_1m_plateI.jpeg\" width=\"450\"/>|<img src=\"plate_photos/expIII/day3/w1_2m_plateI.jpeg\" width=\"450\"/>|<img src=\"plate_photos/expIII/day3/w1_4-4m_plateI.jpeg\" width=\"450\"/>|\n",
    "|3  |<img src=\"plate_photos/expIII/day3/w1_0-4m_plateII.jpeg\" width=\"450\"/>|<img src=\"plate_photos/expIII/day3/w1_1m_plateII.jpeg\" width=\"450\"/>|<img src=\"plate_photos/expIII/day3/w1_2m_plateII.jpeg\" width=\"450\"/>|<img src=\"plate_photos/expIII/day3/w1_4-4m_plateII.jpeg\" width=\"450\"/>|\n",
    "|4  |<img src=\"plate_photos/expIII/day4/w1_0-4m_plateI.jpeg\" width=\"450\"/>|<img src=\"plate_photos/expIII/day4/w1_1m_plateI.jpeg\" width=\"450\"/>|<img src=\"plate_photos/expIII/day4/w1_2m_plateI.jpeg\" width=\"450\"/>|<img src=\"plate_photos/expIII/day4/w1_4-4m_plateI.jpeg\" width=\"450\"/>|\n",
    "|4  |<img src=\"plate_photos/expIII/day4/w1_0-4m_plateII.jpeg\" width=\"450\"/>|<img src=\"plate_photos/expIII/day4/w1_1m_plateII.jpeg\" width=\"450\"/>|<img src=\"plate_photos/expIII/day4/w1_2m_plateII.jpeg\" width=\"450\"/>|<img src=\"plate_photos/expIII/day4/w1_4-4m_plateII.jpeg\" width=\"450\"/>|\n",
    "|5  |<img src=\"plate_photos/expIII/day5/w1_0-4m_plateI.jpeg\" width=\"450\"/>|<img src=\"plate_photos/expIII/day5/w1_1m_plateI.jpeg\" width=\"450\"/>|<img src=\"plate_photos/expIII/day5/w1_2m_plateI.jpeg\" width=\"450\"/>|<img src=\"plate_photos/expIII/day5/w1_4-4m_plateI.jpeg\" width=\"450\"/>|\n",
    "|5  |<img src=\"plate_photos/expIII/day5/w1_0-4m_plateII.jpeg\" width=\"450\"/>|<img src=\"plate_photos/expIII/day5/w1_1m_plateII.jpeg\" width=\"450\"/>|<img src=\"plate_photos/expIII/day5/w1_2m_plateII.jpeg\" width=\"450\"/>|<img src=\"plate_photos/expIII/day5/w1_4-4m_plateII.jpeg\" width=\"450\"/>|\n",
    "|6  |<img src=\"plate_photos/expIII/day6/w1_0-4m_plateI.jpeg\" width=\"450\"/>|<img src=\"plate_photos/expIII/day6/w1_1m_plateI.jpeg\" width=\"450\"/>|<img src=\"plate_photos/expIII/day6/w1_2m_plateI.jpeg\" width=\"450\"/>|<img src=\"plate_photos/expIII/day6/w1_4-4m_plateI.jpeg\" width=\"450\"/>|\n",
    "|6  |<img src=\"plate_photos/expIII/day6/w1_0-4m_plateII.jpeg\" width=\"450\"/>|<img src=\"plate_photos/expIII/day6/w1_1m_plateII.jpeg\" width=\"450\"/>|<img src=\"plate_photos/expIII/day6/w1_2m_plateII.jpeg\" width=\"450\"/>|<img src=\"plate_photos/expIII/day6/w1_4-4m_plateII.jpeg\" width=\"450\"/>|\n",
    "|7  |<img src=\"plate_photos/expIII/day7/w1_0-4m_plateI.jpeg\" width=\"450\"/>|<img src=\"plate_photos/expIII/day7/w1_1m_plateI.jpeg\" width=\"450\"/>|<img src=\"plate_photos/expIII/day7/w1_2m_plateI.jpeg\" width=\"450\"/>|<img src=\"plate_photos/expIII/day7/w1_4-4m_plateI.jpeg\" width=\"450\"/>|\n",
    "|7  |<img src=\"plate_photos/expIII/day7/w1_0-4m_plateII.jpeg\" width=\"450\"/>|<img src=\"plate_photos/expIII/day7/w1_1m_plateII.jpeg\" width=\"450\"/>|<img src=\"plate_photos/expIII/day7/w1_2m_plateII.jpeg\" width=\"450\"/>|<img src=\"plate_photos/expIII/day7/w1_4-4m_plateII.jpeg\" width=\"450\"/>|\n",
    "|8  |<img src=\"plate_photos/expIII/day8/w1_0-4m_plateI.jpeg\" width=\"450\"/>|<img src=\"plate_photos/expIII/day8/w1_1m_plateI.jpeg\" width=\"450\"/>|<img src=\"plate_photos/expIII/day8/w1_2m_plateI.jpeg\" width=\"450\"/>|<img src=\"plate_photos/expIII/day8/w1_4-4m_plateI.jpeg\" width=\"450\"/>|\n",
    "|8  |<img src=\"plate_photos/expIII/day8/w1_0-4m_plateII.jpeg\" width=\"450\"/>|<img src=\"plate_photos/expIII/day8/w1_1m_plateII.jpeg\" width=\"450\"/>|<img src=\"plate_photos/expIII/day8/w1_2m_plateII.jpeg\" width=\"450\"/>|<img src=\"plate_photos/expIII/day8/w1_4-4m_plateII.jpeg\" width=\"450\"/>|\n",
    "|9  |<img src=\"plate_photos/expIII/day9/w1_0-4m_plateI.jpeg\" width=\"450\"/>|<img src=\"plate_photos/expIII/day9/w1_1m_plateI.jpeg\" width=\"450\"/>|<img src=\"plate_photos/expIII/day9/w1_2m_plateI.jpeg\" width=\"450\"/>|<img src=\"plate_photos/expIII/day9/w1_4-4m_plateI.jpeg\" width=\"450\"/>|\n",
    "|9  |<img src=\"plate_photos/expIII/day9/w1_0-4m_plateII.jpeg\" width=\"450\"/>|<img src=\"plate_photos/expIII/day9/w1_1m_plateII.jpeg\" width=\"450\"/>|<img src=\"plate_photos/expIII/day9/w1_2m_plateII.jpeg\" width=\"450\"/>|<img src=\"plate_photos/expIII/day9/w1_4-4m_plateII.jpeg\" width=\"450\"/>|\n",
    "|10 |<img src=\"plate_photos/expIII/day10/w1_0-4m_plateI.jpeg\" width=\"450\"/>|<img src=\"plate_photos/expIII/day10/w1_1m_plateI.jpeg\" width=\"450\"/>|<img src=\"plate_photos/expIII/day10/w1_2m_plateI.jpeg\" width=\"450\"/>|<img src=\"plate_photos/expIII/day10/w1_4-4m_plateI.jpeg\" width=\"450\"/>|\n",
    "|10 |<img src=\"plate_photos/expIII/day10/w1_0-4m_plateII.jpeg\" width=\"450\"/>|<img src=\"plate_photos/expIII/day10/w1_1m_plateII.jpeg\" width=\"450\"/>|<img src=\"plate_photos/expIII/day10/w1_2m_plateII.jpeg\" width=\"450\"/>|<img src=\"plate_photos/expIII/day10/w1_4-4m_plateII.jpeg\" width=\"450\"/>|\n",
    "|11 |<img src=\"plate_photos/expIII/day11/w1_0-4m_plateI.jpeg\" width=\"450\"/>|<img src=\"plate_photos/expIII/day11/w1_1m_plateI.jpeg\" width=\"450\"/>|<img src=\"plate_photos/expIII/day11/w1_2m_plateI.jpeg\" width=\"450\"/>|<img src=\"plate_photos/expIII/day11/w1_4-4m_plateI.jpeg\" width=\"450\"/>|\n",
    "|11 |<img src=\"plate_photos/expIII/day11/w1_0-4m_plateII.jpeg\" width=\"450\"/>|<img src=\"plate_photos/expIII/day11/w1_1m_plateII.jpeg\" width=\"450\"/>|<img src=\"plate_photos/expIII/day11/w1_2m_plateII.jpeg\" width=\"450\"/>|<img src=\"plate_photos/expIII/day11/w1_4-4m_plateII.jpeg\" width=\"450\"/>|\n",
    "|12 |<img src=\"plate_photos/expIII/day12/w1_0-4m_plateI.jpeg\" width=\"450\"/>|<img src=\"plate_photos/expIII/day12/w1_1m_plateI.jpeg\" width=\"450\"/>|<img src=\"plate_photos/expIII/day12/w1_2m_plateI.jpeg\" width=\"450\"/>|<img src=\"plate_photos/expIII/day12/w1_4-4m_plateI.jpeg\" width=\"450\"/>|\n",
    "|12 |<img src=\"plate_photos/expIII/day12/w1_0-4m_plateII.jpeg\" width=\"450\"/>|<img src=\"plate_photos/expIII/day12/w1_1m_plateII.jpeg\" width=\"450\"/>|<img src=\"plate_photos/expIII/day12/w1_2m_plateII.jpeg\" width=\"450\"/>|<img src=\"plate_photos/expIII/day12/w1_4-4m_plateII.jpeg\" width=\"450\"/>|\n",
    "|13 |<img src=\"plate_photos/expIII/day13/w1_0-4m_plateI.jpeg\" width=\"450\"/>|<img src=\"plate_photos/expIII/day13/w1_1m_plateI.jpeg\" width=\"450\"/>|<img src=\"plate_photos/expIII/day13/w1_2m_plateI.jpeg\" width=\"450\"/>|<img src=\"plate_photos/expIII/day13/w1_4-4m_plateI.jpeg\" width=\"450\"/>|\n",
    "|13 |<img src=\"plate_photos/expIII/day13/w1_0-4m_plateII.jpeg\" width=\"450\"/>|<img src=\"plate_photos/expIII/day13/w1_1m_plateII.jpeg\" width=\"450\"/>|<img src=\"plate_photos/expIII/day13/w1_2m_plateII.jpeg\" width=\"450\"/>|<img src=\"plate_photos/expIII/day13/w1_4-4m_plateII.jpeg\" width=\"450\"/>|\n",
    "|14 |<img src=\"plate_photos/expIII/day14/w1_0-4m_plateI.jpeg\" width=\"450\"/>|<img src=\"plate_photos/expIII/day14/w1_1m_plateI.jpeg\" width=\"450\"/>|<img src=\"plate_photos/expIII/day14/w1_2m_plateI.jpeg\" width=\"450\"/>|<img src=\"plate_photos/expIII/day14/w1_4-4m_plateI.jpeg\" width=\"450\"/>|\n",
    "|14 |<img src=\"plate_photos/expIII/day14/w1_0-4m_plateII.jpeg\" width=\"450\"/>|<img src=\"plate_photos/expIII/day14/w1_1m_plateII.jpeg\" width=\"450\"/>|<img src=\"plate_photos/expIII/day14/w1_2m_plateII.jpeg\" width=\"450\"/>|<img src=\"plate_photos/expIII/day14/w1_4-4m_plateII.jpeg\" width=\"450\"/>|\n",
    "|15 |<img src=\"plate_photos/expIII/day15/w1_0-4m_plateI.jpeg\" width=\"450\"/>|<img src=\"plate_photos/expIII/day15/w1_1m_plateI.jpeg\" width=\"450\"/>|<img src=\"plate_photos/expIII/day15/w1_2m_plateI.jpeg\" width=\"450\"/>|<img src=\"plate_photos/expIII/day15/w1_4-4m_plateI.jpeg\" width=\"450\"/>|\n",
    "|15 |<img src=\"plate_photos/expIII/day15/w1_0-4m_plateII.jpeg\" width=\"450\"/>|<img src=\"plate_photos/expIII/day15/w1_1m_plateII.jpeg\" width=\"450\"/>|<img src=\"plate_photos/expIII/day15/w1_2m_plateII.jpeg\" width=\"450\"/>|<img src=\"plate_photos/expIII/day15/w1_4-4m_plateII.jpeg\" width=\"450\"/>|\n",
    "\n",
    "Table 4: photos of agar plates, red circles and arrows indicate CFUs"
   ]
  },
  {
   "cell_type": "markdown",
   "metadata": {},
   "source": [
    "## Colony forming capacity in agar plates with air filtering \n",
    "\n",
    "\n",
    "|Date      |day|0,4m front I|0,4m front II|1m back I|1m back II|2m I|2m II|4,4m I|4,4m II|Sum|\n",
    "|----------|---|------------|-------------|-----------|------------|----|-----|------|-------|---|\n",
    "|15.02.2021 |0  |           |             |          |           |    |    |     |      |  |\n",
    "|16.02.2021 |1  |           |             |          |           |    |    |     |      |  |\n",
    "|17.02.2021 |2  |           |             |          |           |    |1   |     | 1    |2 |\n",
    "|18.02.2021 |3  |           |             | 1        |           |    |1   | 1   | 1    |4 |\n",
    "|19.02.2021 |4  |           |             | 1        |           | 2  |2   | 1   | 1    |7 |\n",
    "|20.02.2021 |5  |           |  2          | 1        |           | 3  |2   | 1   | 1    |10|\n",
    "|21.02.2021 |6  |   1       |  2          | 1        |           | 3  |2   | 1   | 1    |11|\n",
    "|22.02.2021 |7  |   1       |  2          | 1        |           | 3  |2   | 1   | 1    |11|\n",
    "|23.02.2021 |8  |   2       |  2          | 1        |           | 3  |2   | 1   | 1    |12|\n",
    "|24.02.2021  |9 |   2       |  2          | 1        |           | 3  |2   | 1   | 1    |12|\n",
    "|25.02.2021 |10 |   2       |  2          | 1        |           | 3  |2   | 1   | 1    |12|\n",
    "|26.02.2021 |11 |   2       |  2          | 1        |           | 3  |2   | 1   | 1    |12|\n",
    "|27.02.2021 |12 |   2       |  2          | 1        |           | 3  |2   | 1   | 1    |12|\n",
    "|28.02.2021 |13 |   2       |  2          | 1        |           | 3  |2   | 1   | 1    |12|\n",
    "|01.03.2021 |14 |           |             |          |           |    |    |     |      |  |\n",
    "|02.03.2021 |14 |           |             |          |           |    |    |     |      |  |\n",
    "\n",
    "Table 4: colony forming units (CFUs) counted per plate per day"
   ]
  },
  {
   "cell_type": "markdown",
   "metadata": {},
   "source": [
    "|day|0,4m front|1m back|2m|4,4m|\n",
    "|---|------------|-------------|-----------|------------|\n",
    "|0  |            |             |           |            |\n",
    "|1  |            |             |           |            |\n",
    "|2  |<img src=\"plate_photos/expIII/day2/w2_0-4m_plateI.jpeg\" width=\"450\"/>|<img src=\"plate_photos/expIII/day2/w2_1m_plateI.jpeg\" width=\"450\"/>|<img src=\"plate_photos/expIII/day2/w2_2m_plateI.jpeg\" width=\"450\"/>|<img src=\"plate_photos/expIII/day2/w2_4-4m_plateI.jpeg\" width=\"450\"/>|\n",
    "|2  |<img src=\"plate_photos/expIII/day2/w2_0-4m_plateII.jpeg\" width=\"450\"/>|<img src=\"plate_photos/expIII/day2/w2_1m_plateII.jpeg\" width=\"450\"/>|<img src=\"plate_photos/expIII/day2/w2_2m_plateII.jpeg\" width=\"450\"/>|<img src=\"plate_photos/expIII/day2/w2_4-4m_plateII.jpeg\" width=\"450\"/>|\n",
    "|3  |<img src=\"plate_photos/expIII/day3/w2_0-4m_plateI.jpeg\" width=\"450\"/>|<img src=\"plate_photos/expIII/day3/w2_1m_plateI.jpeg\" width=\"450\"/>|<img src=\"plate_photos/expIII/day3/w2_2m_plateI.jpeg\" width=\"450\"/>|<img src=\"plate_photos/expIII/day3/w2_4-4m_plateI.jpeg\" width=\"450\"/>|\n",
    "|3  |<img src=\"plate_photos/expIII/day3/w2_0-4m_plateII.jpeg\" width=\"450\"/>|<img src=\"plate_photos/expIII/day3/w2_1m_plateII.jpeg\" width=\"450\"/>|<img src=\"plate_photos/expIII/day3/w2_2m_plateII.jpeg\" width=\"450\"/>|<img src=\"plate_photos/expIII/day3/w2_4-4m_plateII.jpeg\" width=\"450\"/>|\n",
    "|4  |<img src=\"plate_photos/expIII/day4/w2_0-4m_plateI.jpeg\" width=\"450\"/>|<img src=\"plate_photos/expIII/day4/w2_1m_plateI.jpeg\" width=\"450\"/>|<img src=\"plate_photos/expIII/day4/w2_2m_plateI.jpeg\" width=\"450\"/>|<img src=\"plate_photos/expIII/day4/w2_4-4m_plateI.jpeg\" width=\"450\"/>|\n",
    "|4  |<img src=\"plate_photos/expIII/day4/w2_0-4m_plateII.jpeg\" width=\"450\"/>|<img src=\"plate_photos/expIII/day4/w2_1m_plateII.jpeg\" width=\"450\"/>|<img src=\"plate_photos/expIII/day4/w2_2m_plateII.jpeg\" width=\"450\"/>|<img src=\"plate_photos/expIII/day4/w2_4-4m_plateII.jpeg\" width=\"450\"/>|\n",
    "|5  |<img src=\"plate_photos/expIII/day5/w2_0-4m_plateI.jpeg\" width=\"450\"/>|<img src=\"plate_photos/expIII/day5/w2_1m_plateI.jpeg\" width=\"450\"/>|<img src=\"plate_photos/expIII/day5/w2_2m_plateI.jpeg\" width=\"450\"/>|<img src=\"plate_photos/expIII/day5/w2_4-4m_plateI.jpeg\" width=\"450\"/>|\n",
    "|5  |<img src=\"plate_photos/expIII/day5/w2_0-4m_plateII.jpeg\" width=\"450\"/>|<img src=\"plate_photos/expIII/day5/w2_1m_plateII.jpeg\" width=\"450\"/>|<img src=\"plate_photos/expIII/day5/w2_2m_plateII.jpeg\" width=\"450\"/>|<img src=\"plate_photos/expIII/day5/w2_4-4m_plateII.jpeg\" width=\"450\"/>|\n",
    "|6  |<img src=\"plate_photos/expIII/day6/w2_0-4m_plateI.jpeg\" width=\"450\"/>|<img src=\"plate_photos/expIII/day6/w2_1m_plateI.jpeg\" width=\"450\"/>|<img src=\"plate_photos/expIII/day6/w2_2m_plateI.jpeg\" width=\"450\"/>|<img src=\"plate_photos/expIII/day6/w2_4-4m_plateI.jpeg\" width=\"450\"/>|\n",
    "|6  |<img src=\"plate_photos/expIII/day6/w2_0-4m_plateII.jpeg\" width=\"450\"/>|<img src=\"plate_photos/expIII/day6/w2_1m_plateII.jpeg\" width=\"450\"/>|<img src=\"plate_photos/expIII/day6/w2_2m_plateII.jpeg\" width=\"450\"/>|<img src=\"plate_photos/expIII/day6/w2_4-4m_plateII.jpeg\" width=\"450\"/>|\n",
    "|7  |<img src=\"plate_photos/expIII/day7/w2_0-4m_plateI.jpeg\" width=\"450\"/>|<img src=\"plate_photos/expIII/day7/w2_1m_plateI.jpeg\" width=\"450\"/>|<img src=\"plate_photos/expIII/day7/w2_2m_plateI.jpeg\" width=\"450\"/>|<img src=\"plate_photos/expIII/day7/w2_4-4m_plateI.jpeg\" width=\"450\"/>|\n",
    "|7  |<img src=\"plate_photos/expIII/day7/w2_0-4m_plateII.jpeg\" width=\"450\"/>|<img src=\"plate_photos/expIII/day7/w2_1m_plateII.jpeg\" width=\"450\"/>|<img src=\"plate_photos/expIII/day7/w2_2m_plateII.jpeg\" width=\"450\"/>|<img src=\"plate_photos/expIII/day7/w2_4-4m_plateII.jpeg\" width=\"450\"/>|\n",
    "|8  |<img src=\"plate_photos/expIII/day8/w2_0-4m_plateI.jpeg\" width=\"450\"/>|<img src=\"plate_photos/expIII/day8/w2_1m_plateI.jpeg\" width=\"450\"/>|<img src=\"plate_photos/expIII/day8/w2_2m_plateI.jpeg\" width=\"450\"/>|<img src=\"plate_photos/expIII/day8/w2_4-4m_plateI.jpeg\" width=\"450\"/>|\n",
    "|8  |<img src=\"plate_photos/expIII/day8/w2_0-4m_plateII.jpeg\" width=\"450\"/>|<img src=\"plate_photos/expIII/day8/w2_1m_plateII.jpeg\" width=\"450\"/>|<img src=\"plate_photos/expIII/day8/w2_2m_plateII.jpeg\" width=\"450\"/>|<img src=\"plate_photos/expIII/day8/w2_4-4m_plateII.jpeg\" width=\"450\"/>|\n",
    "|9  |<img src=\"plate_photos/expIII/day9/w2_0-4m_plateI.jpeg\" width=\"450\"/>|<img src=\"plate_photos/expIII/day9/w2_1m_plateI.jpeg\" width=\"450\"/>|<img src=\"plate_photos/expIII/day9/w2_2m_plateI.jpeg\" width=\"450\"/>|<img src=\"plate_photos/expIII/day9/w2_4-4m_plateI.jpeg\" width=\"450\"/>|\n",
    "|9  |<img src=\"plate_photos/expIII/day9/w2_0-4m_plateII.jpeg\" width=\"450\"/>|<img src=\"plate_photos/expIII/day9/w2_1m_plateII.jpeg\" width=\"450\"/>|<img src=\"plate_photos/expIII/day9/w2_2m_plateII.jpeg\" width=\"450\"/>|<img src=\"plate_photos/expIII/day9/w2_4-4m_plateII.jpeg\" width=\"450\"/>|\n",
    "|10 |<img src=\"plate_photos/expIII/day10/w2_0-4m_plateI.jpeg\" width=\"450\"/>|<img src=\"plate_photos/expIII/day10/w2_1m_plateI.jpeg\" width=\"450\"/>|<img src=\"plate_photos/expIII/day10/w2_2m_plateI.jpeg\" width=\"450\"/>|<img src=\"plate_photos/expIII/day10/w2_4-4m_plateI.jpeg\" width=\"450\"/>|\n",
    "|10 |<img src=\"plate_photos/expIII/day10/w2_0-4m_plateII.jpeg\" width=\"450\"/>|<img src=\"plate_photos/expIII/day10/w2_1m_plateII.jpeg\" width=\"450\"/>|<img src=\"plate_photos/expIII/day10/w2_2m_plateII.jpeg\" width=\"450\"/>|<img src=\"plate_photos/expIII/day10/w2_4-4m_plateII.jpeg\" width=\"450\"/>|\n",
    "|11 |<img src=\"plate_photos/expIII/day11/w2_0-4m_plateI.jpeg\" width=\"450\"/>|<img src=\"plate_photos/expIII/day11/w2_1m_plateI.jpeg\" width=\"450\"/>|<img src=\"plate_photos/expIII/day11/w2_2m_plateI.jpeg\" width=\"450\"/>|<img src=\"plate_photos/expIII/day11/w2_4-4m_plateI.jpeg\" width=\"450\"/>|\n",
    "|11 |<img src=\"plate_photos/expIII/day11/w2_0-4m_plateII.jpeg\" width=\"450\"/>|<img src=\"plate_photos/expIII/day11/w2_1m_plateII.jpeg\" width=\"450\"/>|<img src=\"plate_photos/expIII/day11/w2_2m_plateII.jpeg\" width=\"450\"/>|<img src=\"plate_photos/expIII/day11/w2_4-4m_plateII.jpeg\" width=\"450\"/>|\n",
    "|12 |<img src=\"plate_photos/expIII/day12/w2_0-4m_plateI.jpeg\" width=\"450\"/>|<img src=\"plate_photos/expIII/day12/w2_1m_plateI.jpeg\" width=\"450\"/>|<img src=\"plate_photos/expIII/day12/w2_2m_plateI.jpeg\" width=\"450\"/>|<img src=\"plate_photos/expIII/day12/w2_4-4m_plateI.jpeg\" width=\"450\"/>|\n",
    "|12 |<img src=\"plate_photos/expIII/day12/w2_0-4m_plateII.jpeg\" width=\"450\"/>|<img src=\"plate_photos/expIII/day12/w2_1m_plateII.jpeg\" width=\"450\"/>|<img src=\"plate_photos/expIII/day12/w2_2m_plateII.jpeg\" width=\"450\"/>|<img src=\"plate_photos/expIII/day12/w2_4-4m_plateII.jpeg\" width=\"450\"/>|\n",
    "|13 |<img src=\"plate_photos/expIII/day13/w2_0-4m_plateI.jpeg\" width=\"450\"/>|<img src=\"plate_photos/expIII/day13/w2_1m_plateI.jpeg\" width=\"450\"/>|<img src=\"plate_photos/expIII/day13/w2_2m_plateI.jpeg\" width=\"450\"/>|<img src=\"plate_photos/expIII/day13/w2_4-4m_plateI.jpeg\" width=\"450\"/>|\n",
    "|13 |<img src=\"plate_photos/expIII/day13/w2_0-4m_plateII.jpeg\" width=\"450\"/>|<img src=\"plate_photos/expIII/day13/w2_1m_plateII.jpeg\" width=\"450\"/>|<img src=\"plate_photos/expIII/day13/w2_2m_plateII.jpeg\" width=\"450\"/>|<img src=\"plate_photos/expIII/day13/w2_4-4m_plateII.jpeg\" width=\"450\"/>|\n",
    "|14 |<img src=\"plate_photos/expIII/day14/w2_0-4m_plateI.jpeg\" width=\"450\"/>|<img src=\"plate_photos/expIII/day14/w2_1m_plateI.jpeg\" width=\"450\"/>|<img src=\"plate_photos/expIII/day14/w2_2m_plateI.jpeg\" width=\"450\"/>|<img src=\"plate_photos/expIII/day14/w2_4-4m_plateI.jpeg\" width=\"450\"/>|\n",
    "|14 |<img src=\"plate_photos/expIII/day14/w2_0-4m_plateII.jpeg\" width=\"450\"/>|<img src=\"plate_photos/expIII/day14/w2_1m_plateII.jpeg\" width=\"450\"/>|<img src=\"plate_photos/expIII/day14/w2_2m_plateII.jpeg\" width=\"450\"/>|<img src=\"plate_photos/expIII/day14/w2_4-4m_plateII.jpeg\" width=\"450\"/>|\n",
    "|15 |<img src=\"plate_photos/expIII/day15/w2_0-4m_plateI.jpeg\" width=\"450\"/>|<img src=\"plate_photos/expIII/day15/w2_1m_plateI.jpeg\" width=\"450\"/>|<img src=\"plate_photos/expIII/day15/w2_2m_plateI.jpeg\" width=\"450\"/>|<img src=\"plate_photos/expIII/day15/w2_4-4m_plateI.jpeg\" width=\"450\"/>|\n",
    "|15 |<img src=\"plate_photos/expIII/day15/w2_0-4m_plateII.jpeg\" width=\"450\"/>|<img src=\"plate_photos/expIII/day15/w2_1m_plateII.jpeg\" width=\"450\"/>|<img src=\"plate_photos/expIII/day15/w2_2m_plateII.jpeg\" width=\"450\"/>|<img src=\"plate_photos/expIII/day15/w2_4-4m_plateII.jpeg\" width=\"450\"/>|\n",
    "\n",
    "Table 5: CFUs after one hour room use with air filtering"
   ]
  },
  {
   "cell_type": "code",
   "execution_count": null,
   "metadata": {},
   "outputs": [],
   "source": []
  }
 ],
 "metadata": {
  "kernelspec": {
   "display_name": "Python 3",
   "language": "python",
   "name": "python3"
  },
  "language_info": {
   "codemirror_mode": {
    "name": "ipython",
    "version": 3
   },
   "file_extension": ".py",
   "mimetype": "text/x-python",
   "name": "python",
   "nbconvert_exporter": "python",
   "pygments_lexer": "ipython3",
   "version": "3.8.3"
  }
 },
 "nbformat": 4,
 "nbformat_minor": 4
}
